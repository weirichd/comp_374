{
 "cells": [
  {
   "cell_type": "code",
   "execution_count": null,
   "id": "f39d8310-efe5-4398-ad50-f7dfa245ff13",
   "metadata": {},
   "outputs": [],
   "source": []
  }
 ],
 "metadata": {
  "kernelspec": {
   "display_name": "",
   "name": ""
  },
  "language_info": {
   "name": ""
  }
 },
 "nbformat": 4,
 "nbformat_minor": 5
}
