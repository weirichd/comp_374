{
 "cells": [
  {
   "cell_type": "markdown",
   "id": "2451ab4d-a04e-4197-a7f7-647614bf8486",
   "metadata": {},
   "source": [
    "# Advanced Training Techniques\n",
    "\n",
    "In this lesson, we will cover some more advanced tricks when training neural networks.\n",
    "\n",
    "## Outline\n",
    "\n",
    "* Regularization\n",
    "  * L1 and L2 regularization\n",
    "  * Dropout \n",
    "* Callbacks\n",
    "* Hyperparameter Tuning\n",
    "* Classification Models\n",
    "\n",
    "**Key Vocab**\n",
    "\n",
    "* Regularization\n",
    "* Grid Search\n",
    "* Binary Classification\n",
    "* Multi-class Classification\n",
    "* Cross Entropy / Log Loss"
   ]
  },
  {
   "cell_type": "code",
   "execution_count": 1,
   "id": "4adab140-cf1e-4c29-923e-7107e5372197",
   "metadata": {},
   "outputs": [],
   "source": [
    "import itertools\n",
    "\n",
    "import tensorflow.keras as K\n",
    "import numpy as np\n",
    "import matplotlib.pyplot as plt\n",
    "import pandas as pd\n",
    "\n",
    "from sklearn.linear_model import Lasso, Ridge\n",
    "from sklearn.metrics import r2_score\n",
    "from sklearn.datasets import fetch_california_housing\n",
    "from sklearn.model_selection import train_test_split\n",
    "from sklearn.datasets import make_classification\n",
    "from sklearn.preprocessing import StandardScaler"
   ]
  },
  {
   "cell_type": "markdown",
   "id": "84616d83-b6ce-42dd-8b01-39d548eb2021",
   "metadata": {},
   "source": [
    "## What is Regularization?\n",
    "\n",
    "In the last lesson, we learned that neural networks are very prone to the problem of overfitting due to training data memorization.\n",
    "Regularization refers to any method you might use to combat overfitting.\n",
    "\n",
    "\n",
    "## Bigger Networks = More Overfitting\n",
    "\n",
    "One easy method of regularizing our neural networks is to simply make them smaller, either by reducing the number of hidden layers or making the layers smaller."
   ]
  },
  {
   "cell_type": "code",
   "execution_count": 2,
   "id": "c68e1a32-e484-4ca2-b5d6-561baca30b0f",
   "metadata": {},
   "outputs": [
    {
     "data": {
      "text/html": [
       "<pre style=\"white-space:pre;overflow-x:auto;line-height:normal;font-family:Menlo,'DejaVu Sans Mono',consolas,'Courier New',monospace\"><span style=\"font-weight: bold\">Model: \"small_model\"</span>\n",
       "</pre>\n"
      ],
      "text/plain": [
       "\u001b[1mModel: \"small_model\"\u001b[0m\n"
      ]
     },
     "metadata": {},
     "output_type": "display_data"
    },
    {
     "data": {
      "text/html": [
       "<pre style=\"white-space:pre;overflow-x:auto;line-height:normal;font-family:Menlo,'DejaVu Sans Mono',consolas,'Courier New',monospace\">┏━━━━━━━━━━━━━━━━━━━━━━━━━━━━━━━━━┳━━━━━━━━━━━━━━━━━━━━━━━━┳━━━━━━━━━━━━━━━┓\n",
       "┃<span style=\"font-weight: bold\"> Layer (type)                    </span>┃<span style=\"font-weight: bold\"> Output Shape           </span>┃<span style=\"font-weight: bold\">       Param # </span>┃\n",
       "┡━━━━━━━━━━━━━━━━━━━━━━━━━━━━━━━━━╇━━━━━━━━━━━━━━━━━━━━━━━━╇━━━━━━━━━━━━━━━┩\n",
       "│ dense (<span style=\"color: #0087ff; text-decoration-color: #0087ff\">Dense</span>)                   │ (<span style=\"color: #00d7ff; text-decoration-color: #00d7ff\">None</span>, <span style=\"color: #00af00; text-decoration-color: #00af00\">10</span>)             │            <span style=\"color: #00af00; text-decoration-color: #00af00\">20</span> │\n",
       "├─────────────────────────────────┼────────────────────────┼───────────────┤\n",
       "│ dense_1 (<span style=\"color: #0087ff; text-decoration-color: #0087ff\">Dense</span>)                 │ (<span style=\"color: #00d7ff; text-decoration-color: #00d7ff\">None</span>, <span style=\"color: #00af00; text-decoration-color: #00af00\">1</span>)              │            <span style=\"color: #00af00; text-decoration-color: #00af00\">11</span> │\n",
       "└─────────────────────────────────┴────────────────────────┴───────────────┘\n",
       "</pre>\n"
      ],
      "text/plain": [
       "┏━━━━━━━━━━━━━━━━━━━━━━━━━━━━━━━━━┳━━━━━━━━━━━━━━━━━━━━━━━━┳━━━━━━━━━━━━━━━┓\n",
       "┃\u001b[1m \u001b[0m\u001b[1mLayer (type)                   \u001b[0m\u001b[1m \u001b[0m┃\u001b[1m \u001b[0m\u001b[1mOutput Shape          \u001b[0m\u001b[1m \u001b[0m┃\u001b[1m \u001b[0m\u001b[1m      Param #\u001b[0m\u001b[1m \u001b[0m┃\n",
       "┡━━━━━━━━━━━━━━━━━━━━━━━━━━━━━━━━━╇━━━━━━━━━━━━━━━━━━━━━━━━╇━━━━━━━━━━━━━━━┩\n",
       "│ dense (\u001b[38;5;33mDense\u001b[0m)                   │ (\u001b[38;5;45mNone\u001b[0m, \u001b[38;5;34m10\u001b[0m)             │            \u001b[38;5;34m20\u001b[0m │\n",
       "├─────────────────────────────────┼────────────────────────┼───────────────┤\n",
       "│ dense_1 (\u001b[38;5;33mDense\u001b[0m)                 │ (\u001b[38;5;45mNone\u001b[0m, \u001b[38;5;34m1\u001b[0m)              │            \u001b[38;5;34m11\u001b[0m │\n",
       "└─────────────────────────────────┴────────────────────────┴───────────────┘\n"
      ]
     },
     "metadata": {},
     "output_type": "display_data"
    },
    {
     "data": {
      "text/html": [
       "<pre style=\"white-space:pre;overflow-x:auto;line-height:normal;font-family:Menlo,'DejaVu Sans Mono',consolas,'Courier New',monospace\"><span style=\"font-weight: bold\"> Total params: </span><span style=\"color: #00af00; text-decoration-color: #00af00\">31</span> (124.00 B)\n",
       "</pre>\n"
      ],
      "text/plain": [
       "\u001b[1m Total params: \u001b[0m\u001b[38;5;34m31\u001b[0m (124.00 B)\n"
      ]
     },
     "metadata": {},
     "output_type": "display_data"
    },
    {
     "data": {
      "text/html": [
       "<pre style=\"white-space:pre;overflow-x:auto;line-height:normal;font-family:Menlo,'DejaVu Sans Mono',consolas,'Courier New',monospace\"><span style=\"font-weight: bold\"> Trainable params: </span><span style=\"color: #00af00; text-decoration-color: #00af00\">31</span> (124.00 B)\n",
       "</pre>\n"
      ],
      "text/plain": [
       "\u001b[1m Trainable params: \u001b[0m\u001b[38;5;34m31\u001b[0m (124.00 B)\n"
      ]
     },
     "metadata": {},
     "output_type": "display_data"
    },
    {
     "data": {
      "text/html": [
       "<pre style=\"white-space:pre;overflow-x:auto;line-height:normal;font-family:Menlo,'DejaVu Sans Mono',consolas,'Courier New',monospace\"><span style=\"font-weight: bold\"> Non-trainable params: </span><span style=\"color: #00af00; text-decoration-color: #00af00\">0</span> (0.00 B)\n",
       "</pre>\n"
      ],
      "text/plain": [
       "\u001b[1m Non-trainable params: \u001b[0m\u001b[38;5;34m0\u001b[0m (0.00 B)\n"
      ]
     },
     "metadata": {},
     "output_type": "display_data"
    },
    {
     "name": "stdout",
     "output_type": "stream",
     "text": [
      "None\n"
     ]
    },
    {
     "data": {
      "text/html": [
       "<pre style=\"white-space:pre;overflow-x:auto;line-height:normal;font-family:Menlo,'DejaVu Sans Mono',consolas,'Courier New',monospace\"><span style=\"font-weight: bold\">Model: \"large_model\"</span>\n",
       "</pre>\n"
      ],
      "text/plain": [
       "\u001b[1mModel: \"large_model\"\u001b[0m\n"
      ]
     },
     "metadata": {},
     "output_type": "display_data"
    },
    {
     "data": {
      "text/html": [
       "<pre style=\"white-space:pre;overflow-x:auto;line-height:normal;font-family:Menlo,'DejaVu Sans Mono',consolas,'Courier New',monospace\">┏━━━━━━━━━━━━━━━━━━━━━━━━━━━━━━━━━┳━━━━━━━━━━━━━━━━━━━━━━━━┳━━━━━━━━━━━━━━━┓\n",
       "┃<span style=\"font-weight: bold\"> Layer (type)                    </span>┃<span style=\"font-weight: bold\"> Output Shape           </span>┃<span style=\"font-weight: bold\">       Param # </span>┃\n",
       "┡━━━━━━━━━━━━━━━━━━━━━━━━━━━━━━━━━╇━━━━━━━━━━━━━━━━━━━━━━━━╇━━━━━━━━━━━━━━━┩\n",
       "│ dense_2 (<span style=\"color: #0087ff; text-decoration-color: #0087ff\">Dense</span>)                 │ (<span style=\"color: #00d7ff; text-decoration-color: #00d7ff\">None</span>, <span style=\"color: #00af00; text-decoration-color: #00af00\">256</span>)            │           <span style=\"color: #00af00; text-decoration-color: #00af00\">512</span> │\n",
       "├─────────────────────────────────┼────────────────────────┼───────────────┤\n",
       "│ dense_3 (<span style=\"color: #0087ff; text-decoration-color: #0087ff\">Dense</span>)                 │ (<span style=\"color: #00d7ff; text-decoration-color: #00d7ff\">None</span>, <span style=\"color: #00af00; text-decoration-color: #00af00\">128</span>)            │        <span style=\"color: #00af00; text-decoration-color: #00af00\">32,896</span> │\n",
       "├─────────────────────────────────┼────────────────────────┼───────────────┤\n",
       "│ dense_4 (<span style=\"color: #0087ff; text-decoration-color: #0087ff\">Dense</span>)                 │ (<span style=\"color: #00d7ff; text-decoration-color: #00d7ff\">None</span>, <span style=\"color: #00af00; text-decoration-color: #00af00\">64</span>)             │         <span style=\"color: #00af00; text-decoration-color: #00af00\">8,256</span> │\n",
       "├─────────────────────────────────┼────────────────────────┼───────────────┤\n",
       "│ dense_5 (<span style=\"color: #0087ff; text-decoration-color: #0087ff\">Dense</span>)                 │ (<span style=\"color: #00d7ff; text-decoration-color: #00d7ff\">None</span>, <span style=\"color: #00af00; text-decoration-color: #00af00\">32</span>)             │         <span style=\"color: #00af00; text-decoration-color: #00af00\">2,080</span> │\n",
       "├─────────────────────────────────┼────────────────────────┼───────────────┤\n",
       "│ dense_6 (<span style=\"color: #0087ff; text-decoration-color: #0087ff\">Dense</span>)                 │ (<span style=\"color: #00d7ff; text-decoration-color: #00d7ff\">None</span>, <span style=\"color: #00af00; text-decoration-color: #00af00\">1</span>)              │            <span style=\"color: #00af00; text-decoration-color: #00af00\">33</span> │\n",
       "└─────────────────────────────────┴────────────────────────┴───────────────┘\n",
       "</pre>\n"
      ],
      "text/plain": [
       "┏━━━━━━━━━━━━━━━━━━━━━━━━━━━━━━━━━┳━━━━━━━━━━━━━━━━━━━━━━━━┳━━━━━━━━━━━━━━━┓\n",
       "┃\u001b[1m \u001b[0m\u001b[1mLayer (type)                   \u001b[0m\u001b[1m \u001b[0m┃\u001b[1m \u001b[0m\u001b[1mOutput Shape          \u001b[0m\u001b[1m \u001b[0m┃\u001b[1m \u001b[0m\u001b[1m      Param #\u001b[0m\u001b[1m \u001b[0m┃\n",
       "┡━━━━━━━━━━━━━━━━━━━━━━━━━━━━━━━━━╇━━━━━━━━━━━━━━━━━━━━━━━━╇━━━━━━━━━━━━━━━┩\n",
       "│ dense_2 (\u001b[38;5;33mDense\u001b[0m)                 │ (\u001b[38;5;45mNone\u001b[0m, \u001b[38;5;34m256\u001b[0m)            │           \u001b[38;5;34m512\u001b[0m │\n",
       "├─────────────────────────────────┼────────────────────────┼───────────────┤\n",
       "│ dense_3 (\u001b[38;5;33mDense\u001b[0m)                 │ (\u001b[38;5;45mNone\u001b[0m, \u001b[38;5;34m128\u001b[0m)            │        \u001b[38;5;34m32,896\u001b[0m │\n",
       "├─────────────────────────────────┼────────────────────────┼───────────────┤\n",
       "│ dense_4 (\u001b[38;5;33mDense\u001b[0m)                 │ (\u001b[38;5;45mNone\u001b[0m, \u001b[38;5;34m64\u001b[0m)             │         \u001b[38;5;34m8,256\u001b[0m │\n",
       "├─────────────────────────────────┼────────────────────────┼───────────────┤\n",
       "│ dense_5 (\u001b[38;5;33mDense\u001b[0m)                 │ (\u001b[38;5;45mNone\u001b[0m, \u001b[38;5;34m32\u001b[0m)             │         \u001b[38;5;34m2,080\u001b[0m │\n",
       "├─────────────────────────────────┼────────────────────────┼───────────────┤\n",
       "│ dense_6 (\u001b[38;5;33mDense\u001b[0m)                 │ (\u001b[38;5;45mNone\u001b[0m, \u001b[38;5;34m1\u001b[0m)              │            \u001b[38;5;34m33\u001b[0m │\n",
       "└─────────────────────────────────┴────────────────────────┴───────────────┘\n"
      ]
     },
     "metadata": {},
     "output_type": "display_data"
    },
    {
     "data": {
      "text/html": [
       "<pre style=\"white-space:pre;overflow-x:auto;line-height:normal;font-family:Menlo,'DejaVu Sans Mono',consolas,'Courier New',monospace\"><span style=\"font-weight: bold\"> Total params: </span><span style=\"color: #00af00; text-decoration-color: #00af00\">43,777</span> (171.00 KB)\n",
       "</pre>\n"
      ],
      "text/plain": [
       "\u001b[1m Total params: \u001b[0m\u001b[38;5;34m43,777\u001b[0m (171.00 KB)\n"
      ]
     },
     "metadata": {},
     "output_type": "display_data"
    },
    {
     "data": {
      "text/html": [
       "<pre style=\"white-space:pre;overflow-x:auto;line-height:normal;font-family:Menlo,'DejaVu Sans Mono',consolas,'Courier New',monospace\"><span style=\"font-weight: bold\"> Trainable params: </span><span style=\"color: #00af00; text-decoration-color: #00af00\">43,777</span> (171.00 KB)\n",
       "</pre>\n"
      ],
      "text/plain": [
       "\u001b[1m Trainable params: \u001b[0m\u001b[38;5;34m43,777\u001b[0m (171.00 KB)\n"
      ]
     },
     "metadata": {},
     "output_type": "display_data"
    },
    {
     "data": {
      "text/html": [
       "<pre style=\"white-space:pre;overflow-x:auto;line-height:normal;font-family:Menlo,'DejaVu Sans Mono',consolas,'Courier New',monospace\"><span style=\"font-weight: bold\"> Non-trainable params: </span><span style=\"color: #00af00; text-decoration-color: #00af00\">0</span> (0.00 B)\n",
       "</pre>\n"
      ],
      "text/plain": [
       "\u001b[1m Non-trainable params: \u001b[0m\u001b[38;5;34m0\u001b[0m (0.00 B)\n"
      ]
     },
     "metadata": {},
     "output_type": "display_data"
    },
    {
     "name": "stdout",
     "output_type": "stream",
     "text": [
      "None\n"
     ]
    }
   ],
   "source": [
    "# Two neural networks which take one input and one output:\n",
    "\n",
    "model_small = K.Sequential(name='small_model')\n",
    "\n",
    "model_small.add(K.layers.Input((1, )))\n",
    "model_small.add(K.layers.Dense(10, activation='relu'))\n",
    "model_small.add(K.layers.Dense(1))\n",
    "\n",
    "\n",
    "\n",
    "model_large = K.Sequential(name='large_model')\n",
    "\n",
    "model_large.add(K.layers.Input((1, )))\n",
    "model_large.add(K.layers.Dense(256, activation='relu'))\n",
    "model_large.add(K.layers.Dense(128, activation='relu'))\n",
    "model_large.add(K.layers.Dense(64, activation='relu'))\n",
    "model_large.add(K.layers.Dense(32, activation='relu'))\n",
    "model_large.add(K.layers.Dense(1))\n",
    "\n",
    "print(model_small.summary())\n",
    "\n",
    "print(model_large.summary())"
   ]
  },
  {
   "cell_type": "markdown",
   "id": "50440f1f-94ce-425b-8292-cffa9d7c51b1",
   "metadata": {},
   "source": [
    "One way we can simplify defining these models is by creating a helper function to build them."
   ]
  },
  {
   "cell_type": "code",
   "execution_count": 3,
   "id": "dd15ed9a-136f-4778-a14c-6968d8206961",
   "metadata": {},
   "outputs": [
    {
     "data": {
      "text/html": [
       "<pre style=\"white-space:pre;overflow-x:auto;line-height:normal;font-family:Menlo,'DejaVu Sans Mono',consolas,'Courier New',monospace\"><span style=\"font-weight: bold\">Model: \"from_function\"</span>\n",
       "</pre>\n"
      ],
      "text/plain": [
       "\u001b[1mModel: \"from_function\"\u001b[0m\n"
      ]
     },
     "metadata": {},
     "output_type": "display_data"
    },
    {
     "data": {
      "text/html": [
       "<pre style=\"white-space:pre;overflow-x:auto;line-height:normal;font-family:Menlo,'DejaVu Sans Mono',consolas,'Courier New',monospace\">┏━━━━━━━━━━━━━━━━━━━━━━━━━━━━━━━━━┳━━━━━━━━━━━━━━━━━━━━━━━━┳━━━━━━━━━━━━━━━┓\n",
       "┃<span style=\"font-weight: bold\"> Layer (type)                    </span>┃<span style=\"font-weight: bold\"> Output Shape           </span>┃<span style=\"font-weight: bold\">       Param # </span>┃\n",
       "┡━━━━━━━━━━━━━━━━━━━━━━━━━━━━━━━━━╇━━━━━━━━━━━━━━━━━━━━━━━━╇━━━━━━━━━━━━━━━┩\n",
       "│ dense_7 (<span style=\"color: #0087ff; text-decoration-color: #0087ff\">Dense</span>)                 │ (<span style=\"color: #00d7ff; text-decoration-color: #00d7ff\">None</span>, <span style=\"color: #00af00; text-decoration-color: #00af00\">100</span>)            │           <span style=\"color: #00af00; text-decoration-color: #00af00\">200</span> │\n",
       "├─────────────────────────────────┼────────────────────────┼───────────────┤\n",
       "│ dense_8 (<span style=\"color: #0087ff; text-decoration-color: #0087ff\">Dense</span>)                 │ (<span style=\"color: #00d7ff; text-decoration-color: #00d7ff\">None</span>, <span style=\"color: #00af00; text-decoration-color: #00af00\">50</span>)             │         <span style=\"color: #00af00; text-decoration-color: #00af00\">5,050</span> │\n",
       "├─────────────────────────────────┼────────────────────────┼───────────────┤\n",
       "│ dense_9 (<span style=\"color: #0087ff; text-decoration-color: #0087ff\">Dense</span>)                 │ (<span style=\"color: #00d7ff; text-decoration-color: #00d7ff\">None</span>, <span style=\"color: #00af00; text-decoration-color: #00af00\">25</span>)             │         <span style=\"color: #00af00; text-decoration-color: #00af00\">1,275</span> │\n",
       "├─────────────────────────────────┼────────────────────────┼───────────────┤\n",
       "│ dense_10 (<span style=\"color: #0087ff; text-decoration-color: #0087ff\">Dense</span>)                │ (<span style=\"color: #00d7ff; text-decoration-color: #00d7ff\">None</span>, <span style=\"color: #00af00; text-decoration-color: #00af00\">10</span>)             │           <span style=\"color: #00af00; text-decoration-color: #00af00\">260</span> │\n",
       "├─────────────────────────────────┼────────────────────────┼───────────────┤\n",
       "│ dense_11 (<span style=\"color: #0087ff; text-decoration-color: #0087ff\">Dense</span>)                │ (<span style=\"color: #00d7ff; text-decoration-color: #00d7ff\">None</span>, <span style=\"color: #00af00; text-decoration-color: #00af00\">1</span>)              │            <span style=\"color: #00af00; text-decoration-color: #00af00\">11</span> │\n",
       "└─────────────────────────────────┴────────────────────────┴───────────────┘\n",
       "</pre>\n"
      ],
      "text/plain": [
       "┏━━━━━━━━━━━━━━━━━━━━━━━━━━━━━━━━━┳━━━━━━━━━━━━━━━━━━━━━━━━┳━━━━━━━━━━━━━━━┓\n",
       "┃\u001b[1m \u001b[0m\u001b[1mLayer (type)                   \u001b[0m\u001b[1m \u001b[0m┃\u001b[1m \u001b[0m\u001b[1mOutput Shape          \u001b[0m\u001b[1m \u001b[0m┃\u001b[1m \u001b[0m\u001b[1m      Param #\u001b[0m\u001b[1m \u001b[0m┃\n",
       "┡━━━━━━━━━━━━━━━━━━━━━━━━━━━━━━━━━╇━━━━━━━━━━━━━━━━━━━━━━━━╇━━━━━━━━━━━━━━━┩\n",
       "│ dense_7 (\u001b[38;5;33mDense\u001b[0m)                 │ (\u001b[38;5;45mNone\u001b[0m, \u001b[38;5;34m100\u001b[0m)            │           \u001b[38;5;34m200\u001b[0m │\n",
       "├─────────────────────────────────┼────────────────────────┼───────────────┤\n",
       "│ dense_8 (\u001b[38;5;33mDense\u001b[0m)                 │ (\u001b[38;5;45mNone\u001b[0m, \u001b[38;5;34m50\u001b[0m)             │         \u001b[38;5;34m5,050\u001b[0m │\n",
       "├─────────────────────────────────┼────────────────────────┼───────────────┤\n",
       "│ dense_9 (\u001b[38;5;33mDense\u001b[0m)                 │ (\u001b[38;5;45mNone\u001b[0m, \u001b[38;5;34m25\u001b[0m)             │         \u001b[38;5;34m1,275\u001b[0m │\n",
       "├─────────────────────────────────┼────────────────────────┼───────────────┤\n",
       "│ dense_10 (\u001b[38;5;33mDense\u001b[0m)                │ (\u001b[38;5;45mNone\u001b[0m, \u001b[38;5;34m10\u001b[0m)             │           \u001b[38;5;34m260\u001b[0m │\n",
       "├─────────────────────────────────┼────────────────────────┼───────────────┤\n",
       "│ dense_11 (\u001b[38;5;33mDense\u001b[0m)                │ (\u001b[38;5;45mNone\u001b[0m, \u001b[38;5;34m1\u001b[0m)              │            \u001b[38;5;34m11\u001b[0m │\n",
       "└─────────────────────────────────┴────────────────────────┴───────────────┘\n"
      ]
     },
     "metadata": {},
     "output_type": "display_data"
    },
    {
     "data": {
      "text/html": [
       "<pre style=\"white-space:pre;overflow-x:auto;line-height:normal;font-family:Menlo,'DejaVu Sans Mono',consolas,'Courier New',monospace\"><span style=\"font-weight: bold\"> Total params: </span><span style=\"color: #00af00; text-decoration-color: #00af00\">6,796</span> (26.55 KB)\n",
       "</pre>\n"
      ],
      "text/plain": [
       "\u001b[1m Total params: \u001b[0m\u001b[38;5;34m6,796\u001b[0m (26.55 KB)\n"
      ]
     },
     "metadata": {},
     "output_type": "display_data"
    },
    {
     "data": {
      "text/html": [
       "<pre style=\"white-space:pre;overflow-x:auto;line-height:normal;font-family:Menlo,'DejaVu Sans Mono',consolas,'Courier New',monospace\"><span style=\"font-weight: bold\"> Trainable params: </span><span style=\"color: #00af00; text-decoration-color: #00af00\">6,796</span> (26.55 KB)\n",
       "</pre>\n"
      ],
      "text/plain": [
       "\u001b[1m Trainable params: \u001b[0m\u001b[38;5;34m6,796\u001b[0m (26.55 KB)\n"
      ]
     },
     "metadata": {},
     "output_type": "display_data"
    },
    {
     "data": {
      "text/html": [
       "<pre style=\"white-space:pre;overflow-x:auto;line-height:normal;font-family:Menlo,'DejaVu Sans Mono',consolas,'Courier New',monospace\"><span style=\"font-weight: bold\"> Non-trainable params: </span><span style=\"color: #00af00; text-decoration-color: #00af00\">0</span> (0.00 B)\n",
       "</pre>\n"
      ],
      "text/plain": [
       "\u001b[1m Non-trainable params: \u001b[0m\u001b[38;5;34m0\u001b[0m (0.00 B)\n"
      ]
     },
     "metadata": {},
     "output_type": "display_data"
    }
   ],
   "source": [
    "def build_feedforward_network(n_inputs, layer_sizes, name=None):\n",
    "\n",
    "    model = K.Sequential(name=name)\n",
    "    \n",
    "    model.add(K.layers.Input((n_inputs, )))\n",
    "\n",
    "    for layer_size in layer_sizes:\n",
    "        model.add(K.layers.Dense(layer_size, activation='relu'))\n",
    "\n",
    "    model.add(K.layers.Dense(1))\n",
    "\n",
    "    return model\n",
    "\n",
    "model_from_func = build_feedforward_network(1, [100, 50, 25, 10], name='from_function')\n",
    "\n",
    "model_from_func.summary()"
   ]
  },
  {
   "cell_type": "markdown",
   "id": "a1be7655-d24c-466e-9e8c-a8fa76a0bf0c",
   "metadata": {},
   "source": [
    "Using functions like this, we can quickly test out different model sizes."
   ]
  },
  {
   "cell_type": "markdown",
   "id": "08234f24-e864-4737-b608-788072038ac6",
   "metadata": {},
   "source": [
    "## L1 and L2 Regularization: Mathematical Intuition\n",
    "\n",
    "One common technique involves the inclusion of a _penalty term_ in your loss function.\n",
    "\n",
    "Recall the loss function definition for a regression problem:\n",
    "\n",
    "$$J(\\vec{w}) = \\frac{1}{2N}\\sum_{i=1}^N |y_i - f(\\vec{x}_i; \\vec{w})|^2$$\n",
    "\n",
    "We can add a penalty term to this loss function which will stop the weights from growing too large.\n",
    "Two common types of penaly term are L1, and L2. The \"L\" here stands for [Lesbegue](https://en.wikipedia.org/wiki/Henri_Lebesgue), a late 19th/early 20th century mathematician and _total genius_.\n",
    "\n",
    "**L1 Regularization:**\n",
    "$$J(\\vec{w}) = \\frac{1}{2N}\\sum_{i=1}^N |y_i - f(\\vec{x}_i; \\vec{w})|^2 + \\lambda \\cdot \\sum_{j=1}^K |w_j|$$\n",
    "\n",
    "**L2 Regularization:**\n",
    "$$J(\\vec{w}) = \\frac{1}{2N}\\sum_{i=1}^N |y_i - f(\\vec{x}_i; \\vec{w})|^2 + \\lambda \\cdot \\sum_{j=1}^K w_j^2$$\n",
    "\n",
    "In these loss functions $\\lambda$ is the _regularization strength_.\n",
    "The larger $\\lambda$ is, the more the penalty term dominates the loss function.\n",
    "\n",
    "> **Question to Ponder:**\n",
    ">\n",
    "> Why would making the model weights _smaller_ help combat overfitting?\n",
    "\n",
    "\n",
    "### What's the Difference Between L1 and L2\n",
    "\n",
    "From the formulas above, we can see that L1 regularization works by summing the absolute value of the weights, while L2 sums their square.\n",
    "In each instance, the terms of the sum will all be positive.\n",
    "\n",
    "It can be somewhat tricky to understand the difference between these two techniques.\n",
    "Let's fit several models with different regularization strengths to see what happens.\n",
    "\n",
    "We can use `sklearn` to help with this."
   ]
  },
  {
   "cell_type": "code",
   "execution_count": 4,
   "id": "7329a81a-6110-4038-a53f-3ef4fb2c35d2",
   "metadata": {},
   "outputs": [
    {
     "data": {
      "text/html": [
       "<div>\n",
       "<style scoped>\n",
       "    .dataframe tbody tr th:only-of-type {\n",
       "        vertical-align: middle;\n",
       "    }\n",
       "\n",
       "    .dataframe tbody tr th {\n",
       "        vertical-align: top;\n",
       "    }\n",
       "\n",
       "    .dataframe thead th {\n",
       "        text-align: right;\n",
       "    }\n",
       "</style>\n",
       "<table border=\"1\" class=\"dataframe\">\n",
       "  <thead>\n",
       "    <tr style=\"text-align: right;\">\n",
       "      <th></th>\n",
       "      <th>MedInc</th>\n",
       "      <th>HouseAge</th>\n",
       "      <th>AveRooms</th>\n",
       "      <th>AveBedrms</th>\n",
       "      <th>Population</th>\n",
       "      <th>AveOccup</th>\n",
       "      <th>Latitude</th>\n",
       "      <th>Longitude</th>\n",
       "    </tr>\n",
       "  </thead>\n",
       "  <tbody>\n",
       "    <tr>\n",
       "      <th>0</th>\n",
       "      <td>2.344766</td>\n",
       "      <td>0.982143</td>\n",
       "      <td>0.628559</td>\n",
       "      <td>-0.153758</td>\n",
       "      <td>-0.974429</td>\n",
       "      <td>-0.049597</td>\n",
       "      <td>1.052548</td>\n",
       "      <td>-1.327835</td>\n",
       "    </tr>\n",
       "    <tr>\n",
       "      <th>1</th>\n",
       "      <td>2.332238</td>\n",
       "      <td>-0.607019</td>\n",
       "      <td>0.327041</td>\n",
       "      <td>-0.263336</td>\n",
       "      <td>0.861439</td>\n",
       "      <td>-0.092512</td>\n",
       "      <td>1.043185</td>\n",
       "      <td>-1.322844</td>\n",
       "    </tr>\n",
       "    <tr>\n",
       "      <th>2</th>\n",
       "      <td>1.782699</td>\n",
       "      <td>1.856182</td>\n",
       "      <td>1.155620</td>\n",
       "      <td>-0.049016</td>\n",
       "      <td>-0.820777</td>\n",
       "      <td>-0.025843</td>\n",
       "      <td>1.038503</td>\n",
       "      <td>-1.332827</td>\n",
       "    </tr>\n",
       "    <tr>\n",
       "      <th>3</th>\n",
       "      <td>0.932968</td>\n",
       "      <td>1.856182</td>\n",
       "      <td>0.156966</td>\n",
       "      <td>-0.049833</td>\n",
       "      <td>-0.766028</td>\n",
       "      <td>-0.050329</td>\n",
       "      <td>1.038503</td>\n",
       "      <td>-1.337818</td>\n",
       "    </tr>\n",
       "    <tr>\n",
       "      <th>4</th>\n",
       "      <td>-0.012881</td>\n",
       "      <td>1.856182</td>\n",
       "      <td>0.344711</td>\n",
       "      <td>-0.032906</td>\n",
       "      <td>-0.759847</td>\n",
       "      <td>-0.085616</td>\n",
       "      <td>1.038503</td>\n",
       "      <td>-1.337818</td>\n",
       "    </tr>\n",
       "  </tbody>\n",
       "</table>\n",
       "</div>"
      ],
      "text/plain": [
       "     MedInc  HouseAge  AveRooms  AveBedrms  Population  AveOccup  Latitude  \\\n",
       "0  2.344766  0.982143  0.628559  -0.153758   -0.974429 -0.049597  1.052548   \n",
       "1  2.332238 -0.607019  0.327041  -0.263336    0.861439 -0.092512  1.043185   \n",
       "2  1.782699  1.856182  1.155620  -0.049016   -0.820777 -0.025843  1.038503   \n",
       "3  0.932968  1.856182  0.156966  -0.049833   -0.766028 -0.050329  1.038503   \n",
       "4 -0.012881  1.856182  0.344711  -0.032906   -0.759847 -0.085616  1.038503   \n",
       "\n",
       "   Longitude  \n",
       "0  -1.327835  \n",
       "1  -1.322844  \n",
       "2  -1.332827  \n",
       "3  -1.337818  \n",
       "4  -1.337818  "
      ]
     },
     "execution_count": 4,
     "metadata": {},
     "output_type": "execute_result"
    }
   ],
   "source": [
    "# Use this California house prices dataset\n",
    "\n",
    "X, y = fetch_california_housing(as_frame=True, return_X_y=True)\n",
    "\n",
    "\n",
    "# Apply feature scaling\n",
    "# (Note that you would normally fit this  on the training set and not the test set)\n",
    "columns = X.columns\n",
    "X = StandardScaler().fit_transform(X)\n",
    "\n",
    "X = pd.DataFrame(X, columns=columns)\n",
    "\n",
    "X.head()"
   ]
  },
  {
   "cell_type": "code",
   "execution_count": 5,
   "id": "d2cd3b42-5f3b-4b93-9492-e82e6f2e54fb",
   "metadata": {},
   "outputs": [],
   "source": [
    "# When doing linear regression, L1 and L2 have special names called \"Lasso\" and \"Ridge\" resp.\n",
    "\n",
    "saved_weights_l1 = []\n",
    "saved_weights_l2 = []\n",
    "\n",
    "# Vary the strength by powers of 2\n",
    "reg_strengths = [2**r for r in range(-15, 20)]\n",
    "\n",
    "for reg_strength in reg_strengths:\n",
    "    # Note: \"lambda\" is a keyword in Python, so these objects use \"alpha\" instead.\n",
    "    l1 = Lasso(alpha=reg_strength)\n",
    "    l2 = Ridge(alpha=reg_strength)\n",
    "    \n",
    "    l1.fit(X, y)\n",
    "    l2.fit(X, y)\n",
    "    \n",
    "    saved_weights_l1.append(l1.coef_)\n",
    "    saved_weights_l2.append(l2.coef_)\n",
    "\n",
    "saved_weights_l1 = np.array(saved_weights_l1)\n",
    "saved_weights_l2 = np.array(saved_weights_l2)"
   ]
  },
  {
   "cell_type": "code",
   "execution_count": 6,
   "id": "d452fd29-f84e-4d8c-9809-fb0a3fb63512",
   "metadata": {},
   "outputs": [
    {
     "data": {
      "image/png": "[encoded data removed]",
      "text/plain": [
       "<Figure size 1200x400 with 2 Axes>"
      ]
     },
     "metadata": {},
     "output_type": "display_data"
    }
   ],
   "source": [
    "fig, ax = plt.subplots(1, 2)\n",
    "\n",
    "for weights, name in zip(saved_weights_l1.T, X.columns):\n",
    "    ax[0].plot(reg_strengths, weights, label=name)\n",
    "\n",
    "for weights in saved_weights_l2.T:\n",
    "    ax[1].plot(reg_strengths, weights)\n",
    "\n",
    "ax[0].set_title('L1 Regularization')\n",
    "ax[0].set_xlabel('$\\lambda$')\n",
    "ax[0].set_xscale('log')\n",
    "ax[0].legend()\n",
    "\n",
    "ax[1].set_title('L2 Regularization')\n",
    "ax[1].set_xlabel('$\\lambda$')\n",
    "ax[1].set_xscale('log')\n",
    "\n",
    "fig.set_size_inches(12, 4)"
   ]
  },
  {
   "cell_type": "markdown",
   "id": "75629090-abc0-4c05-975b-598077db6ee9",
   "metadata": {},
   "source": [
    "From this picture, we can see the behavior of L1 and L2.\n",
    "L1 will mostly cause weights to shrink one at a time (sometimes in groups), whereas L2 will cause all the weights to shrink at the same time."
   ]
  },
  {
   "cell_type": "markdown",
   "id": "c383223f-7bef-480e-b509-928d50962323",
   "metadata": {},
   "source": [
    "### Regularization in Keras\n",
    "\n",
    "Keras allows us to impose penalty terms on our layers when we build the network."
   ]
  },
  {
   "cell_type": "code",
   "execution_count": 7,
   "id": "ef98294c-3d6f-4294-a7da-81a5241636da",
   "metadata": {},
   "outputs": [
    {
     "data": {
      "text/html": [
       "<pre style=\"white-space:pre;overflow-x:auto;line-height:normal;font-family:Menlo,'DejaVu Sans Mono',consolas,'Courier New',monospace\"><span style=\"font-weight: bold\">Model: \"California_Housing\"</span>\n",
       "</pre>\n"
      ],
      "text/plain": [
       "\u001b[1mModel: \"California_Housing\"\u001b[0m\n"
      ]
     },
     "metadata": {},
     "output_type": "display_data"
    },
    {
     "data": {
      "text/html": [
       "<pre style=\"white-space:pre;overflow-x:auto;line-height:normal;font-family:Menlo,'DejaVu Sans Mono',consolas,'Courier New',monospace\">┏━━━━━━━━━━━━━━━━━━━━━━━━━━━━━━━━━┳━━━━━━━━━━━━━━━━━━━━━━━━┳━━━━━━━━━━━━━━━┓\n",
       "┃<span style=\"font-weight: bold\"> Layer (type)                    </span>┃<span style=\"font-weight: bold\"> Output Shape           </span>┃<span style=\"font-weight: bold\">       Param # </span>┃\n",
       "┡━━━━━━━━━━━━━━━━━━━━━━━━━━━━━━━━━╇━━━━━━━━━━━━━━━━━━━━━━━━╇━━━━━━━━━━━━━━━┩\n",
       "│ dense_12 (<span style=\"color: #0087ff; text-decoration-color: #0087ff\">Dense</span>)                │ (<span style=\"color: #00d7ff; text-decoration-color: #00d7ff\">None</span>, <span style=\"color: #00af00; text-decoration-color: #00af00\">16</span>)             │           <span style=\"color: #00af00; text-decoration-color: #00af00\">144</span> │\n",
       "├─────────────────────────────────┼────────────────────────┼───────────────┤\n",
       "│ dense_13 (<span style=\"color: #0087ff; text-decoration-color: #0087ff\">Dense</span>)                │ (<span style=\"color: #00d7ff; text-decoration-color: #00d7ff\">None</span>, <span style=\"color: #00af00; text-decoration-color: #00af00\">16</span>)             │           <span style=\"color: #00af00; text-decoration-color: #00af00\">272</span> │\n",
       "├─────────────────────────────────┼────────────────────────┼───────────────┤\n",
       "│ dense_14 (<span style=\"color: #0087ff; text-decoration-color: #0087ff\">Dense</span>)                │ (<span style=\"color: #00d7ff; text-decoration-color: #00d7ff\">None</span>, <span style=\"color: #00af00; text-decoration-color: #00af00\">1</span>)              │            <span style=\"color: #00af00; text-decoration-color: #00af00\">17</span> │\n",
       "└─────────────────────────────────┴────────────────────────┴───────────────┘\n",
       "</pre>\n"
      ],
      "text/plain": [
       "┏━━━━━━━━━━━━━━━━━━━━━━━━━━━━━━━━━┳━━━━━━━━━━━━━━━━━━━━━━━━┳━━━━━━━━━━━━━━━┓\n",
       "┃\u001b[1m \u001b[0m\u001b[1mLayer (type)                   \u001b[0m\u001b[1m \u001b[0m┃\u001b[1m \u001b[0m\u001b[1mOutput Shape          \u001b[0m\u001b[1m \u001b[0m┃\u001b[1m \u001b[0m\u001b[1m      Param #\u001b[0m\u001b[1m \u001b[0m┃\n",
       "┡━━━━━━━━━━━━━━━━━━━━━━━━━━━━━━━━━╇━━━━━━━━━━━━━━━━━━━━━━━━╇━━━━━━━━━━━━━━━┩\n",
       "│ dense_12 (\u001b[38;5;33mDense\u001b[0m)                │ (\u001b[38;5;45mNone\u001b[0m, \u001b[38;5;34m16\u001b[0m)             │           \u001b[38;5;34m144\u001b[0m │\n",
       "├─────────────────────────────────┼────────────────────────┼───────────────┤\n",
       "│ dense_13 (\u001b[38;5;33mDense\u001b[0m)                │ (\u001b[38;5;45mNone\u001b[0m, \u001b[38;5;34m16\u001b[0m)             │           \u001b[38;5;34m272\u001b[0m │\n",
       "├─────────────────────────────────┼────────────────────────┼───────────────┤\n",
       "│ dense_14 (\u001b[38;5;33mDense\u001b[0m)                │ (\u001b[38;5;45mNone\u001b[0m, \u001b[38;5;34m1\u001b[0m)              │            \u001b[38;5;34m17\u001b[0m │\n",
       "└─────────────────────────────────┴────────────────────────┴───────────────┘\n"
      ]
     },
     "metadata": {},
     "output_type": "display_data"
    },
    {
     "data": {
      "text/html": [
       "<pre style=\"white-space:pre;overflow-x:auto;line-height:normal;font-family:Menlo,'DejaVu Sans Mono',consolas,'Courier New',monospace\"><span style=\"font-weight: bold\"> Total params: </span><span style=\"color: #00af00; text-decoration-color: #00af00\">433</span> (1.69 KB)\n",
       "</pre>\n"
      ],
      "text/plain": [
       "\u001b[1m Total params: \u001b[0m\u001b[38;5;34m433\u001b[0m (1.69 KB)\n"
      ]
     },
     "metadata": {},
     "output_type": "display_data"
    },
    {
     "data": {
      "text/html": [
       "<pre style=\"white-space:pre;overflow-x:auto;line-height:normal;font-family:Menlo,'DejaVu Sans Mono',consolas,'Courier New',monospace\"><span style=\"font-weight: bold\"> Trainable params: </span><span style=\"color: #00af00; text-decoration-color: #00af00\">433</span> (1.69 KB)\n",
       "</pre>\n"
      ],
      "text/plain": [
       "\u001b[1m Trainable params: \u001b[0m\u001b[38;5;34m433\u001b[0m (1.69 KB)\n"
      ]
     },
     "metadata": {},
     "output_type": "display_data"
    },
    {
     "data": {
      "text/html": [
       "<pre style=\"white-space:pre;overflow-x:auto;line-height:normal;font-family:Menlo,'DejaVu Sans Mono',consolas,'Courier New',monospace\"><span style=\"font-weight: bold\"> Non-trainable params: </span><span style=\"color: #00af00; text-decoration-color: #00af00\">0</span> (0.00 B)\n",
       "</pre>\n"
      ],
      "text/plain": [
       "\u001b[1m Non-trainable params: \u001b[0m\u001b[38;5;34m0\u001b[0m (0.00 B)\n"
      ]
     },
     "metadata": {},
     "output_type": "display_data"
    }
   ],
   "source": [
    "def build_regularized_network(n_inputs, layer_sizes, name=None, reg_strength=0.0, reg_type='L1'):\n",
    "    assert reg_type in ['L1', 'L2'], \"Only L1 and L2 regularization supported\"\n",
    "\n",
    "    model = K.Sequential(name=name)\n",
    "    \n",
    "    model.add(K.layers.Input((n_inputs, )))\n",
    "\n",
    "    for layer_size in layer_sizes:\n",
    "        if reg_type == 'L1':\n",
    "            regularizer = K.regularizers.L1(reg_strength)\n",
    "        else:\n",
    "            regularizer = K.regularizers.L2(reg_strength)\n",
    "        \n",
    "        layer = K.layers.Dense(\n",
    "            layer_size, \n",
    "            activation='relu', \n",
    "            kernel_regularizer=regularizer,\n",
    "        )\n",
    "        model.add(layer)\n",
    "\n",
    "    model.add(K.layers.Dense(1))\n",
    "\n",
    "    model.compile(loss='mse')\n",
    "\n",
    "    return model\n",
    "\n",
    "model = build_regularized_network(\n",
    "    n_inputs=X.shape[1], \n",
    "    layer_sizes=[16, 16], \n",
    "    name='California_Housing',\n",
    "    reg_strength=10.0,\n",
    "    reg_type='L2',\n",
    ")\n",
    "\n",
    "model.summary()"
   ]
  },
  {
   "cell_type": "markdown",
   "id": "8487823b-73fe-4025-9c68-119d71528b89",
   "metadata": {},
   "source": [
    "### Dropout\n",
    "\n",
    "Another type of regularization uniquely avaliable to neural networks is dropout.\n",
    "[Dropout Layers](https://keras.io/api/layers/regularization_layers/dropout/) are special layers you add in your neural network.\n",
    "When the model is fully trained, the layers do absolutely nothing.\n",
    "However, while the model is training they layers apply the dropout operation.\n",
    "From the Keras documentation:\n",
    "> The Dropout layer randomly sets input units to 0 with a frequency of rate at each step during training time, which helps prevent overfitting. Inputs not set to 0 are scaled up by 1 / (1 - rate) such that the sum over all inputs is unchanged.\n",
    "\n",
    "In other words, dropout layers will randomly cancel out weights while the model is training.\n",
    "This ensures that there are not a small collection of weights within the model dominating the behavior of the network.\n",
    "Instead, the entire network will contribute to learning the desired relationship."
   ]
  },
  {
   "cell_type": "code",
   "execution_count": 8,
   "id": "a8d26ea8-c45e-4567-8c58-edfab9d4ec4d",
   "metadata": {},
   "outputs": [],
   "source": [
    "def build_dropout_network(n_inputs, layer_sizes, name=None, dropout_rate = 0.0):\n",
    "    model = K.Sequential(name=name)\n",
    "    \n",
    "    model.add(K.layers.Input((n_inputs, )))\n",
    "\n",
    "    for layer_size in layer_sizes:\n",
    "        layer = K.layers.Dense(\n",
    "            layer_size, \n",
    "            activation='relu', \n",
    "        )\n",
    "        model.add(layer)\n",
    "        model.add(K.layers.Dropout(rate=dropout_rate))\n",
    "\n",
    "    model.add(K.layers.Dense(1))\n",
    "\n",
    "    model.compile(loss='mse')\n",
    "\n",
    "    return model"
   ]
  },
  {
   "cell_type": "markdown",
   "id": "c2055bd1-0751-423c-8e7c-e6720b7c50dc",
   "metadata": {},
   "source": [
    "In deep learning, there are many other options for deal with regularization with lots of room for creative solutions!"
   ]
  },
  {
   "cell_type": "markdown",
   "id": "57dcabe8-9888-4640-af8b-ed589b403d18",
   "metadata": {},
   "source": [
    "## Callbacks in Keras\n",
    "\n",
    "In programming, a callback refers to a function which is called under certain circumstances.\n",
    "Keras supports callbacks which can be called while the model is training.\n",
    "There are builtin callbacks and you can also create your own.\n",
    "\n",
    "### Early Stopping\n",
    "\n",
    "One problem you may encounter while training a model is that you start to overfit due to too many training epochs.\n",
    "We can address this by using an [_early stopping callback_](https://keras.io/api/callbacks/early_stopping/).\n",
    "While the model is training, at the end of each epoch the validation loss is calculated.\n",
    "If the loss has gone up instead of down, then the model will stop training early."
   ]
  },
  {
   "cell_type": "code",
   "execution_count": 9,
   "id": "7fefd52e-fdeb-40aa-a421-1aca5cd4287b",
   "metadata": {},
   "outputs": [
    {
     "name": "stdout",
     "output_type": "stream",
     "text": [
      "Epoch 1/10000\n"
     ]
    },
    {
     "name": "stderr",
     "output_type": "stream",
     "text": [
      "WARNING: All log messages before absl::InitializeLog() is called are written to STDERR\n",
      "I0000 00:00:1742337457.355864  104696 service.cc:146] XLA service 0x7f9170006c10 initialized for platform CUDA (this does not guarantee that XLA will be used). Devices:\n",
      "I0000 00:00:1742337457.355920  104696 service.cc:154]   StreamExecutor device (0): Quadro RTX 5000, Compute Capability 7.5\n",
      "I0000 00:00:1742337457.355927  104696 service.cc:154]   StreamExecutor device (1): Quadro RTX 5000, Compute Capability 7.5\n"
     ]
    },
    {
     "name": "stdout",
     "output_type": "stream",
     "text": [
      "\u001b[1m137/581\u001b[0m \u001b[32m━━━━\u001b[0m\u001b[37m━━━━━━━━━━━━━━━━\u001b[0m \u001b[1m0s\u001b[0m 1ms/step - loss: 3.3946"
     ]
    },
    {
     "name": "stderr",
     "output_type": "stream",
     "text": [
      "I0000 00:00:1742337457.850893  104696 device_compiler.h:188] Compiled cluster using XLA!  This line is logged at most once for the lifetime of the process.\n"
     ]
    },
    {
     "name": "stdout",
     "output_type": "stream",
     "text": [
      "\u001b[1m581/581\u001b[0m \u001b[32m━━━━━━━━━━━━━━━━━━━━\u001b[0m\u001b[37m\u001b[0m \u001b[1m2s\u001b[0m 3ms/step - loss: 1.6796 - val_loss: 0.4074\n",
      "Epoch 2/10000\n",
      "\u001b[1m581/581\u001b[0m \u001b[32m━━━━━━━━━━━━━━━━━━━━\u001b[0m\u001b[37m\u001b[0m \u001b[1m1s\u001b[0m 2ms/step - loss: 0.3911 - val_loss: 0.3718\n",
      "Epoch 3/10000\n",
      "\u001b[1m581/581\u001b[0m \u001b[32m━━━━━━━━━━━━━━━━━━━━\u001b[0m\u001b[37m\u001b[0m \u001b[1m1s\u001b[0m 2ms/step - loss: 0.4024 - val_loss: 0.3619\n",
      "Epoch 4/10000\n",
      "\u001b[1m581/581\u001b[0m \u001b[32m━━━━━━━━━━━━━━━━━━━━\u001b[0m\u001b[37m\u001b[0m \u001b[1m1s\u001b[0m 2ms/step - loss: 0.3410 - val_loss: 0.3687\n",
      "Epoch 5/10000\n",
      "\u001b[1m581/581\u001b[0m \u001b[32m━━━━━━━━━━━━━━━━━━━━\u001b[0m\u001b[37m\u001b[0m \u001b[1m1s\u001b[0m 2ms/step - loss: 0.3581 - val_loss: 0.3869\n",
      "Epoch 6/10000\n",
      "\u001b[1m581/581\u001b[0m \u001b[32m━━━━━━━━━━━━━━━━━━━━\u001b[0m\u001b[37m\u001b[0m \u001b[1m1s\u001b[0m 2ms/step - loss: 0.3260 - val_loss: 0.3331\n",
      "Epoch 7/10000\n",
      "\u001b[1m581/581\u001b[0m \u001b[32m━━━━━━━━━━━━━━━━━━━━\u001b[0m\u001b[37m\u001b[0m \u001b[1m1s\u001b[0m 2ms/step - loss: 0.3154 - val_loss: 0.3210\n",
      "Epoch 8/10000\n",
      "\u001b[1m581/581\u001b[0m \u001b[32m━━━━━━━━━━━━━━━━━━━━\u001b[0m\u001b[37m\u001b[0m \u001b[1m1s\u001b[0m 2ms/step - loss: 0.3128 - val_loss: 0.3220\n",
      "Epoch 9/10000\n",
      "\u001b[1m581/581\u001b[0m \u001b[32m━━━━━━━━━━━━━━━━━━━━\u001b[0m\u001b[37m\u001b[0m \u001b[1m1s\u001b[0m 2ms/step - loss: 0.3011 - val_loss: 0.3358\n",
      "Epoch 10/10000\n",
      "\u001b[1m581/581\u001b[0m \u001b[32m━━━━━━━━━━━━━━━━━━━━\u001b[0m\u001b[37m\u001b[0m \u001b[1m1s\u001b[0m 2ms/step - loss: 0.3022 - val_loss: 0.3299\n"
     ]
    },
    {
     "data": {
      "text/plain": [
       "<keras.src.callbacks.history.History at 0x7f92f517db90>"
      ]
     },
     "execution_count": 9,
     "metadata": {},
     "output_type": "execute_result"
    }
   ],
   "source": [
    "# X still contains the California housing dataset\n",
    "X_train, X_test, y_train, y_test = train_test_split(X, y, test_size=0.1)\n",
    "\n",
    "model = K.Sequential()\n",
    "model.add(K.layers.Input((X.shape[1], )))\n",
    "model.add(K.layers.Dense(64, activation='relu'))\n",
    "model.add(K.layers.Dense(32, activation='relu'))\n",
    "model.add(K.layers.Dense(1, activation='linear'))\n",
    "\n",
    "\n",
    "# Callbacks are defined when you call the fit function\n",
    "model.compile(loss='mse', optimizer='adam')\n",
    "\n",
    "# Passing in a patience value lets it go a few epochs w/o improvement.\n",
    "callback = K.callbacks.EarlyStopping(patience=3)\n",
    "\n",
    "# Train with a very large number of epochs\n",
    "model.fit(X_train, y_train, validation_data=(X_test, y_test), epochs=10**4, callbacks=[callback], batch_size=32)"
   ]
  },
  {
   "cell_type": "markdown",
   "id": "82754ab6-60a8-4c08-8e77-d8715a9b4578",
   "metadata": {},
   "source": [
    "## Different Optimizers and Varying Learning Rates\n",
    "\n",
    "In the last section, you may have noticed the `optimizer='adam'` in the model compilation.\n",
    "An optimizer is the component of the algorithm that controls how the gradient descent step is applied.\n",
    "Two popular optimizers are SGD, and Adam, although there are others.\n",
    "\n",
    "SDG is the normal stochastic gradient descent.\n",
    "At each gradient update, a small multiple of the gradient is subtracted from the weights.\n",
    "This multiple is called the _learning rate_ and is typically referred to by the Greek leter $\\eta$ (eta).\n",
    "\n",
    "Adam, short for _Adaptive Moment Estimation_, applies a variable learning rate that adapts based on what are called first and second moments.\n",
    "The details are somewhat technical and are outside the scope of this lesson. Suffice it to say, Adam is typically a good first choice for optimizer.\n",
    "\n",
    "### Specifying The Learning Rate in Keras\n",
    "\n",
    "We can specify the learning rate when the model is compiled.\n",
    "Below we train two networks with diffent learning rates, and see how the model's learning curves compare."
   ]
  },
  {
   "cell_type": "code",
   "execution_count": 10,
   "id": "b6a02724-937b-4c8a-af47-32178ccca864",
   "metadata": {},
   "outputs": [
    {
     "name": "stdout",
     "output_type": "stream",
     "text": [
      "Epoch 1/20\n",
      "\u001b[1m645/645\u001b[0m \u001b[32m━━━━━━━━━━━━━━━━━━━━\u001b[0m\u001b[37m\u001b[0m \u001b[1m2s\u001b[0m 2ms/step - loss: 2.9466\n",
      "Epoch 2/20\n",
      "\u001b[1m645/645\u001b[0m \u001b[32m━━━━━━━━━━━━━━━━━━━━\u001b[0m\u001b[37m\u001b[0m \u001b[1m1s\u001b[0m 2ms/step - loss: 0.6902\n",
      "Epoch 3/20\n",
      "\u001b[1m645/645\u001b[0m \u001b[32m━━━━━━━━━━━━━━━━━━━━\u001b[0m\u001b[37m\u001b[0m \u001b[1m1s\u001b[0m 2ms/step - loss: 0.6127\n",
      "Epoch 4/20\n",
      "\u001b[1m645/645\u001b[0m \u001b[32m━━━━━━━━━━━━━━━━━━━━\u001b[0m\u001b[37m\u001b[0m \u001b[1m1s\u001b[0m 2ms/step - loss: 0.5585\n",
      "Epoch 5/20\n",
      "\u001b[1m645/645\u001b[0m \u001b[32m━━━━━━━━━━━━━━━━━━━━\u001b[0m\u001b[37m\u001b[0m \u001b[1m1s\u001b[0m 2ms/step - loss: 0.5176\n",
      "Epoch 6/20\n",
      "\u001b[1m645/645\u001b[0m \u001b[32m━━━━━━━━━━━━━━━━━━━━\u001b[0m\u001b[37m\u001b[0m \u001b[1m1s\u001b[0m 2ms/step - loss: 0.5057\n",
      "Epoch 7/20\n",
      "\u001b[1m645/645\u001b[0m \u001b[32m━━━━━━━━━━━━━━━━━━━━\u001b[0m\u001b[37m\u001b[0m \u001b[1m1s\u001b[0m 2ms/step - loss: 0.4911\n",
      "Epoch 8/20\n",
      "\u001b[1m645/645\u001b[0m \u001b[32m━━━━━━━━━━━━━━━━━━━━\u001b[0m\u001b[37m\u001b[0m \u001b[1m1s\u001b[0m 2ms/step - loss: 0.4937\n",
      "Epoch 9/20\n",
      "\u001b[1m645/645\u001b[0m \u001b[32m━━━━━━━━━━━━━━━━━━━━\u001b[0m\u001b[37m\u001b[0m \u001b[1m1s\u001b[0m 2ms/step - loss: 0.4850\n",
      "Epoch 10/20\n",
      "\u001b[1m645/645\u001b[0m \u001b[32m━━━━━━━━━━━━━━━━━━━━\u001b[0m\u001b[37m\u001b[0m \u001b[1m1s\u001b[0m 2ms/step - loss: 0.4560\n",
      "Epoch 11/20\n",
      "\u001b[1m645/645\u001b[0m \u001b[32m━━━━━━━━━━━━━━━━━━━━\u001b[0m\u001b[37m\u001b[0m \u001b[1m1s\u001b[0m 2ms/step - loss: 0.4670\n",
      "Epoch 12/20\n",
      "\u001b[1m645/645\u001b[0m \u001b[32m━━━━━━━━━━━━━━━━━━━━\u001b[0m\u001b[37m\u001b[0m \u001b[1m1s\u001b[0m 2ms/step - loss: 0.4544\n",
      "Epoch 13/20\n",
      "\u001b[1m645/645\u001b[0m \u001b[32m━━━━━━━━━━━━━━━━━━━━\u001b[0m\u001b[37m\u001b[0m \u001b[1m1s\u001b[0m 2ms/step - loss: 0.4487\n",
      "Epoch 14/20\n",
      "\u001b[1m645/645\u001b[0m \u001b[32m━━━━━━━━━━━━━━━━━━━━\u001b[0m\u001b[37m\u001b[0m \u001b[1m1s\u001b[0m 1ms/step - loss: 0.4343\n",
      "Epoch 15/20\n",
      "\u001b[1m645/645\u001b[0m \u001b[32m━━━━━━━━━━━━━━━━━━━━\u001b[0m\u001b[37m\u001b[0m \u001b[1m1s\u001b[0m 2ms/step - loss: 0.4427\n",
      "Epoch 16/20\n",
      "\u001b[1m645/645\u001b[0m \u001b[32m━━━━━━━━━━━━━━━━━━━━\u001b[0m\u001b[37m\u001b[0m \u001b[1m1s\u001b[0m 2ms/step - loss: 0.4389\n",
      "Epoch 17/20\n",
      "\u001b[1m645/645\u001b[0m \u001b[32m━━━━━━━━━━━━━━━━━━━━\u001b[0m\u001b[37m\u001b[0m \u001b[1m1s\u001b[0m 2ms/step - loss: 0.4463\n",
      "Epoch 18/20\n",
      "\u001b[1m645/645\u001b[0m \u001b[32m━━━━━━━━━━━━━━━━━━━━\u001b[0m\u001b[37m\u001b[0m \u001b[1m1s\u001b[0m 2ms/step - loss: 0.4298\n",
      "Epoch 19/20\n",
      "\u001b[1m645/645\u001b[0m \u001b[32m━━━━━━━━━━━━━━━━━━━━\u001b[0m\u001b[37m\u001b[0m \u001b[1m1s\u001b[0m 2ms/step - loss: 0.4307\n",
      "Epoch 20/20\n",
      "\u001b[1m645/645\u001b[0m \u001b[32m━━━━━━━━━━━━━━━━━━━━\u001b[0m\u001b[37m\u001b[0m \u001b[1m1s\u001b[0m 2ms/step - loss: 0.4272\n",
      "Epoch 1/20\n",
      "\u001b[1m645/645\u001b[0m \u001b[32m━━━━━━━━━━━━━━━━━━━━\u001b[0m\u001b[37m\u001b[0m \u001b[1m1s\u001b[0m 2ms/step - loss: 1.9722\n",
      "Epoch 2/20\n",
      "\u001b[1m645/645\u001b[0m \u001b[32m━━━━━━━━━━━━━━━━━━━━\u001b[0m\u001b[37m\u001b[0m \u001b[1m1s\u001b[0m 2ms/step - loss: 0.7218\n",
      "Epoch 3/20\n",
      "\u001b[1m645/645\u001b[0m \u001b[32m━━━━━━━━━━━━━━━━━━━━\u001b[0m\u001b[37m\u001b[0m \u001b[1m1s\u001b[0m 2ms/step - loss: 0.5687\n",
      "Epoch 4/20\n",
      "\u001b[1m645/645\u001b[0m \u001b[32m━━━━━━━━━━━━━━━━━━━━\u001b[0m\u001b[37m\u001b[0m \u001b[1m1s\u001b[0m 2ms/step - loss: 0.5151\n",
      "Epoch 5/20\n",
      "\u001b[1m645/645\u001b[0m \u001b[32m━━━━━━━━━━━━━━━━━━━━\u001b[0m\u001b[37m\u001b[0m \u001b[1m1s\u001b[0m 2ms/step - loss: 0.4783\n",
      "Epoch 6/20\n",
      "\u001b[1m645/645\u001b[0m \u001b[32m━━━━━━━━━━━━━━━━━━━━\u001b[0m\u001b[37m\u001b[0m \u001b[1m1s\u001b[0m 2ms/step - loss: 0.4764\n",
      "Epoch 7/20\n",
      "\u001b[1m645/645\u001b[0m \u001b[32m━━━━━━━━━━━━━━━━━━━━\u001b[0m\u001b[37m\u001b[0m \u001b[1m1s\u001b[0m 2ms/step - loss: 0.4724\n",
      "Epoch 8/20\n",
      "\u001b[1m645/645\u001b[0m \u001b[32m━━━━━━━━━━━━━━━━━━━━\u001b[0m\u001b[37m\u001b[0m \u001b[1m1s\u001b[0m 2ms/step - loss: 0.4535\n",
      "Epoch 9/20\n",
      "\u001b[1m645/645\u001b[0m \u001b[32m━━━━━━━━━━━━━━━━━━━━\u001b[0m\u001b[37m\u001b[0m \u001b[1m1s\u001b[0m 2ms/step - loss: 0.4632\n",
      "Epoch 10/20\n",
      "\u001b[1m645/645\u001b[0m \u001b[32m━━━━━━━━━━━━━━━━━━━━\u001b[0m\u001b[37m\u001b[0m \u001b[1m1s\u001b[0m 2ms/step - loss: 0.4446\n",
      "Epoch 11/20\n",
      "\u001b[1m645/645\u001b[0m \u001b[32m━━━━━━━━━━━━━━━━━━━━\u001b[0m\u001b[37m\u001b[0m \u001b[1m1s\u001b[0m 2ms/step - loss: 0.4495\n",
      "Epoch 12/20\n",
      "\u001b[1m645/645\u001b[0m \u001b[32m━━━━━━━━━━━━━━━━━━━━\u001b[0m\u001b[37m\u001b[0m \u001b[1m1s\u001b[0m 2ms/step - loss: 0.4339\n",
      "Epoch 13/20\n",
      "\u001b[1m645/645\u001b[0m \u001b[32m━━━━━━━━━━━━━━━━━━━━\u001b[0m\u001b[37m\u001b[0m \u001b[1m1s\u001b[0m 2ms/step - loss: 0.4298\n",
      "Epoch 14/20\n",
      "\u001b[1m645/645\u001b[0m \u001b[32m━━━━━━━━━━━━━━━━━━━━\u001b[0m\u001b[37m\u001b[0m \u001b[1m1s\u001b[0m 2ms/step - loss: 0.4232\n",
      "Epoch 15/20\n",
      "\u001b[1m645/645\u001b[0m \u001b[32m━━━━━━━━━━━━━━━━━━━━\u001b[0m\u001b[37m\u001b[0m \u001b[1m1s\u001b[0m 2ms/step - loss: 0.4282\n",
      "Epoch 16/20\n",
      "\u001b[1m645/645\u001b[0m \u001b[32m━━━━━━━━━━━━━━━━━━━━\u001b[0m\u001b[37m\u001b[0m \u001b[1m1s\u001b[0m 2ms/step - loss: 0.4233\n",
      "Epoch 17/20\n",
      "\u001b[1m645/645\u001b[0m \u001b[32m━━━━━━━━━━━━━━━━━━━━\u001b[0m\u001b[37m\u001b[0m \u001b[1m1s\u001b[0m 2ms/step - loss: 0.4199\n",
      "Epoch 18/20\n",
      "\u001b[1m645/645\u001b[0m \u001b[32m━━━━━━━━━━━━━━━━━━━━\u001b[0m\u001b[37m\u001b[0m \u001b[1m1s\u001b[0m 2ms/step - loss: 0.4080\n",
      "Epoch 19/20\n",
      "\u001b[1m645/645\u001b[0m \u001b[32m━━━━━━━━━━━━━━━━━━━━\u001b[0m\u001b[37m\u001b[0m \u001b[1m1s\u001b[0m 2ms/step - loss: 0.4162\n",
      "Epoch 20/20\n",
      "\u001b[1m645/645\u001b[0m \u001b[32m━━━━━━━━━━━━━━━━━━━━\u001b[0m\u001b[37m\u001b[0m \u001b[1m1s\u001b[0m 2ms/step - loss: 0.4126\n"
     ]
    }
   ],
   "source": [
    "histories = []\n",
    "\n",
    "for learning_rate in [0.001, .002]:\n",
    "    model = K.Sequential()\n",
    "    model.add(K.layers.Input((X.shape[1], )))\n",
    "    model.add(K.layers.Dense(32, activation='relu'))\n",
    "    model.add(K.layers.Dense(1))\n",
    "\n",
    "    model.compile(loss='mse', optimizer=K.optimizers.SGD(learning_rate=learning_rate))\n",
    "\n",
    "    # For this example, fit on the whole dataset\n",
    "    history = model.fit(X, y, epochs=20)\n",
    "\n",
    "    histories.append(history)"
   ]
  },
  {
   "cell_type": "code",
   "execution_count": 11,
   "id": "0368b2ff-cea2-433d-896d-eeabbe141f94",
   "metadata": {},
   "outputs": [
    {
     "data": {
      "image/png": "[encoded data removed]",
      "text/plain": [
       "<Figure size 640x480 with 1 Axes>"
      ]
     },
     "metadata": {},
     "output_type": "display_data"
    }
   ],
   "source": [
    "fig, ax = plt.subplots()\n",
    "\n",
    "pd.DataFrame(histories[0].history).plot(ax=ax)\n",
    "pd.DataFrame(histories[1].history).plot(ax=ax)\n",
    "\n",
    "ax.set_yscale('log')"
   ]
  },
  {
   "cell_type": "markdown",
   "id": "4bc488f3-d5e9-4227-bda3-84f14cfbf10b",
   "metadata": {},
   "source": [
    "## Hyperparameter Tuning with Grid Search\n",
    "\n",
    "So far in this lesson, we have covered a lot of examples of various ways you could build your neural networks to solve problems.\n",
    "A natural question arises: _how do we find the best network?_\n",
    "This is an example of hyper parameter tuning.\n",
    "\n",
    "> **Definition**\n",
    ">\n",
    "> A **hyperparameter** is a parameter of the training process, as opposed to a parameter (aka weight) of the trained network.\n",
    "\n",
    "A common method of hyper parameter tuning is the _grid search method_.\n",
    "\n",
    "1. Define a _grid_ of hyper parameter values you wish to search over.\n",
    "2. Loop over all cobminations of hyperparameters in your grid.\n",
    "3. For each HP combination, train a model and evaluate its performance on the validation set.\n",
    "4. Keep track of the best combination of hyperparameters.\n",
    "\n",
    "In other words, a grid search is really just a big _guess and check_ operation!"
   ]
  },
  {
   "cell_type": "code",
   "execution_count": 12,
   "id": "e5ca9fef-c34d-49d8-bae8-5101e3dcdd12",
   "metadata": {},
   "outputs": [
    {
     "name": "stdout",
     "output_type": "stream",
     "text": [
      "Testing config: layers=2, units=32, batch_size=32\n",
      "Validation R2: 0.7623\n",
      "Testing config: layers=2, units=32, batch_size=64\n",
      "Validation R2: 0.7465\n",
      "Testing config: layers=2, units=64, batch_size=32\n",
      "Validation R2: 0.7726\n",
      "Testing config: layers=2, units=64, batch_size=64\n",
      "Validation R2: 0.7562\n",
      "Testing config: layers=3, units=32, batch_size=32\n",
      "Validation R2: 0.7700\n",
      "Testing config: layers=3, units=32, batch_size=64\n",
      "Validation R2: 0.7546\n",
      "Testing config: layers=3, units=64, batch_size=32\n",
      "Validation R2: 0.7704\n",
      "Testing config: layers=3, units=64, batch_size=64\n",
      "Validation R2: 0.7685\n",
      "Best Model -> layers=2, units=64, batch_size=32, r2=0.7726\n"
     ]
    }
   ],
   "source": [
    "# Split into training and validation sets\n",
    "X_train, X_val, y_train, y_val = train_test_split(X, y, test_size=0.2, random_state=0)\n",
    "\n",
    "# Define hyperparameter grid\n",
    "# Here we will loop over number of layers, layer size, and batch size\n",
    "param_grid = {\n",
    "    'num_layers': [2, 3],  # Number of hidden layers\n",
    "    'units': [32, 64],     # Neurons per layer\n",
    "    'batch_size': [32, 64],\n",
    "}\n",
    "\n",
    "# Generate all combinations of hyperparameters\n",
    "grid_combinations = list(itertools.product(*param_grid.values()))\n",
    "\n",
    "best_model = None\n",
    "best_r2 = 0\n",
    "best_params = None\n",
    "\n",
    "# Iterate over each hyperparameter combination\n",
    "for num_layers, units, batch_size in grid_combinations:\n",
    "    print(f\"Testing config: layers={num_layers}, units={units}, batch_size={batch_size}\")\n",
    "\n",
    "    # Build the model\n",
    "    model = K.Sequential()\n",
    "    model.add(K.layers.Input(shape=(X_train.shape[1],)))\n",
    "    \n",
    "    for _ in range(num_layers):\n",
    "        model.add(K.layers.Dense(units, activation='relu'))\n",
    "    \n",
    "    model.add(K.layers.Dense(1, activation='linear'))\n",
    "\n",
    "    # Compile model\n",
    "    model.compile(\n",
    "        optimizer='adam',\n",
    "        loss='mse',\n",
    "        metrics=[K.metrics.R2Score()],\n",
    "    )\n",
    "\n",
    "    # Train the model\n",
    "    history = model.fit(\n",
    "        X_train, y_train,\n",
    "        validation_data=(X_val, y_val),\n",
    "        batch_size=batch_size,\n",
    "        epochs=10,  # Keep epochs small for faster tuning\n",
    "        verbose=0\n",
    "    )\n",
    "\n",
    "    # Evaluate performance\n",
    "    val_r2 = max(history.history['val_r2_score'])\n",
    "    print(f\"Validation R2: {val_r2:.4f}\")\n",
    "\n",
    "    # Store the best model\n",
    "    if val_r2 > best_r2:\n",
    "        best_r2 = val_r2\n",
    "        best_model = model\n",
    "        best_params = (num_layers, units, batch_size)\n",
    "\n",
    "\n",
    "print(f\"Best Model -> layers={best_params[0]}, units={best_params[1]}, batch_size={best_params[2]}, r2={best_r2:.4f}\")"
   ]
  },
  {
   "cell_type": "markdown",
   "id": "e432d95a-cf52-47ec-bbcf-aa413baaea61",
   "metadata": {},
   "source": [
    "## Classification Models\n",
    "\n",
    "Up until now, we have focused on models which are intended to output a single value.\n",
    "However, another common task is _classification_, where you have to determine the class of an input.\n",
    "\n",
    "With neural networks, it is not very hard to adapt to classification.\n",
    "You only need to change the model's final output layer, and the loss function!\n",
    "\n",
    "### Loss Function\n",
    "\n",
    "Up until now, for regression, we have used Mean Square Error as the loss function.\n",
    "For classification problems, we instead use _cross entropy_.\n",
    "\n",
    "### Binary Classification\n",
    "\n",
    "In binary classification problems, we have exactly two classes of objects.\n",
    "One class, the _positive class_, is encoded with a 1. The other, the _negative class_, is encoded with a 0.\n",
    "\n",
    "Just as with logistic regression which we learned about in week 1, we use the `sigmoid` activation layer as our final output layer.\n",
    "When we compile the model, we use the `binary_crossentropy` loss function.\n",
    "\n",
    "$$J(\\vec{w}) = -\\frac{1}{N}\\sum_{i=1}^N \\left(y_i \\cdot \\log(p_i) + (1 - y_i)\\cdot \\log(1 - p_i)\\right)$$\n",
    "Where \n",
    "* $y_i$ is either 0 or 1\n",
    "* $p_i$ is the model's prediction for the probability that sample $i$ is of the positive class ($p_i = f(\\vec{x}_i; \\vec{w})$)\n",
    "* $\\frac{1}{N}$ is a normalization term.\n",
    "\n",
    "> **Unpacking the cross entropy formula**\n",
    ">\n",
    "> The classification loss function -- with its minus sign, $\\log$, and multiple terms -- might at first glance seem somewhat intimidating.\n",
    "> Let's first take a look at the terms:\n",
    "> $$y_i \\cdot \\log(p_i)\\,\\,\\,\\,\\,\\,\\,\\,\\text{and}\\,\\,\\,\\,\\,\\,\\,\\,(1 - y_i)\\cdot \\log(1 - p_i)$$\n",
    "> The value $y_i$ is only zero or one. If it is one, then only the left term contributes. If it is zero, then only the right one does.\n",
    "> By adding these term together, we make sure that one and only one of them will be non-zero for every sample.\n",
    ">\n",
    "> Now, what about the terms themselves? We know that $p_i$ is a (predicted) _probability_ which means it is between 0.0 and 1.0.\n",
    "> Therefore, $\\log(p_i)$ is negative.\n",
    ">\n",
    "> ![Log Plot](../images/plot_of_log.png)\n",
    ">\n",
    "> Let's imagine that predicted probability is very bad, that is, for a sample where $y_i =1$, the probablity is very small.\n",
    "> The then log will be a very large negative number!\n",
    "> Since the cross entropy formula has a minus sign out front, this bad prediction will contribute a lot to the loss.\n",
    "> A similar argument exists for bad predictions when $y_i = 0$ with the other term.\n",
    "> This will entice the gradient descent process to focus in on improving the worst predictions the model is making.\n",
    "\n",
    "Cross entropy is also sometimes called \"negative log loss\", due to how the formula is defined.\n",
    "\n",
    "### Multi-class Classification\n",
    "\n",
    "For multiclass classification, there are more than two potential classes.\n",
    "Becasue of this we need a different kind of output.\n",
    "For this we use the _softmax_ activation function, which we covered in Lesson 2:\n",
    "\n",
    "\n",
    "$$\\text{softmax}\\left(\\vec{x}\\right) = \\frac{1}{\\sum_{j=0}^N e^{x_j}} \\cdot \\left[\\begin{array}{c}\n",
    "e^{x_0} \\\\\n",
    "\\vdots \\\\\n",
    "e^{x_N}\n",
    "\\end{array} \\right]$$\n",
    "\n",
    "Reminder: This function takes any vector and returns a vector with the properties that\n",
    "* All entries are between 0.0 and 1.0\n",
    "* All entries sum up to 1.0\n",
    "\n",
    "We can thus interpret the entries of this vector as probabilties.\n",
    "\n",
    "For the loss function, we use `categorical_crossentropy` which is a mutli-class generalization of the binary crossentropy.\n",
    "Usually, when using Keras, we prefer to use `sparse_categorical_crossentropy`.\n",
    "This loss function allows us to specify our target vector as a list of integers which represent which class each sample belongs to."
   ]
  },
  {
   "cell_type": "code",
   "execution_count": 13,
   "id": "1f648215-2593-4942-b82e-1b05ec69d6fa",
   "metadata": {},
   "outputs": [
    {
     "name": "stdout",
     "output_type": "stream",
     "text": [
      "Logits:  [0.24178252 0.01203764 0.65723302 0.08894682]\n",
      "Largest probability entry: 2\n"
     ]
    }
   ],
   "source": [
    "def softmax(x):\n",
    "    numerator = np.exp(x)\n",
    "    denominator = numerator.sum()\n",
    "\n",
    "    return numerator / denominator\n",
    "\n",
    "sample_input = np.array([1, -2, 2, 0])\n",
    "\n",
    "logits = softmax(sample_input)\n",
    "\n",
    "print(\"Logits: \",logits)\n",
    "print(\"Largest probability entry:\", np.argmax(logits))"
   ]
  },
  {
   "cell_type": "code",
   "execution_count": 14,
   "id": "cf5ff319-a2cf-481d-9918-dfa2774a86cf",
   "metadata": {},
   "outputs": [
    {
     "name": "stdout",
     "output_type": "stream",
     "text": [
      "Y vector:\n",
      "[1 1 0 0 1 0 1 1 1 0 0 0 0 0 0 1 1 0 0 0 1 1 0 1 0 0 1 0 1 1 1 1 0 0 0 1 1\n",
      " 1 0 0 0 0 1 0 0 0 0 1 1 0 1 0 1 0 1 0 1 0 0 0 1 1 1 0 0 0 1 1 1 0 0 1 1 0\n",
      " 0 0 1 0 1 0 0 1 1 0 1 0 1 1 1 1 1 1 1 1 1 1 1 0 1 1]\n",
      "Epoch 1/10\n",
      "\u001b[1m4/4\u001b[0m \u001b[32m━━━━━━━━━━━━━━━━━━━━\u001b[0m\u001b[37m\u001b[0m \u001b[1m2s\u001b[0m 260ms/step - accuracy: 0.3569 - loss: 0.7644\n",
      "Epoch 2/10\n",
      "\u001b[1m4/4\u001b[0m \u001b[32m━━━━━━━━━━━━━━━━━━━━\u001b[0m\u001b[37m\u001b[0m \u001b[1m0s\u001b[0m 3ms/step - accuracy: 0.5142 - loss: 0.6877 \n",
      "Epoch 3/10\n",
      "\u001b[1m4/4\u001b[0m \u001b[32m━━━━━━━━━━━━━━━━━━━━\u001b[0m\u001b[37m\u001b[0m \u001b[1m0s\u001b[0m 3ms/step - accuracy: 0.7139 - loss: 0.6424 \n",
      "Epoch 4/10\n",
      "\u001b[1m4/4\u001b[0m \u001b[32m━━━━━━━━━━━━━━━━━━━━\u001b[0m\u001b[37m\u001b[0m \u001b[1m0s\u001b[0m 4ms/step - accuracy: 0.8275 - loss: 0.6127 \n",
      "Epoch 5/10\n",
      "\u001b[1m4/4\u001b[0m \u001b[32m━━━━━━━━━━━━━━━━━━━━\u001b[0m\u001b[37m\u001b[0m \u001b[1m0s\u001b[0m 3ms/step - accuracy: 0.9048 - loss: 0.5821 \n",
      "Epoch 6/10\n",
      "\u001b[1m4/4\u001b[0m \u001b[32m━━━━━━━━━━━━━━━━━━━━\u001b[0m\u001b[37m\u001b[0m \u001b[1m0s\u001b[0m 3ms/step - accuracy: 0.9348 - loss: 0.5381 \n",
      "Epoch 7/10\n",
      "\u001b[1m4/4\u001b[0m \u001b[32m━━━━━━━━━━━━━━━━━━━━\u001b[0m\u001b[37m\u001b[0m \u001b[1m0s\u001b[0m 3ms/step - accuracy: 0.9109 - loss: 0.5253 \n",
      "Epoch 8/10\n",
      "\u001b[1m4/4\u001b[0m \u001b[32m━━━━━━━━━━━━━━━━━━━━\u001b[0m\u001b[37m\u001b[0m \u001b[1m0s\u001b[0m 3ms/step - accuracy: 0.9263 - loss: 0.4970 \n",
      "Epoch 9/10\n",
      "\u001b[1m4/4\u001b[0m \u001b[32m━━━━━━━━━━━━━━━━━━━━\u001b[0m\u001b[37m\u001b[0m \u001b[1m0s\u001b[0m 3ms/step - accuracy: 0.9170 - loss: 0.4771 \n",
      "Epoch 10/10\n",
      "\u001b[1m4/4\u001b[0m \u001b[32m━━━━━━━━━━━━━━━━━━━━\u001b[0m\u001b[37m\u001b[0m \u001b[1m0s\u001b[0m 3ms/step - accuracy: 0.9074 - loss: 0.4596 \n",
      "\u001b[1m1/1\u001b[0m \u001b[32m━━━━━━━━━━━━━━━━━━━━\u001b[0m\u001b[37m\u001b[0m \u001b[1m0s\u001b[0m 164ms/step\n"
     ]
    },
    {
     "data": {
      "text/plain": [
       "array([[0.6123627 ],\n",
       "       [0.7088645 ],\n",
       "       [0.28668082],\n",
       "       [0.42035565]], dtype=float32)"
      ]
     },
     "execution_count": 14,
     "metadata": {},
     "output_type": "execute_result"
    }
   ],
   "source": [
    "# Define a binary classification model\n",
    "X, y = make_classification(n_classes=2, n_features=7, n_samples=100)\n",
    "\n",
    "print(\"Y vector:\")\n",
    "print(y)\n",
    "\n",
    "model = K.Sequential()\n",
    "model.add(K.layers.Dense(32, activation='relu'))\n",
    "model.add(K.layers.Dense(32, activation='relu'))\n",
    "model.add(K.layers.Dense(1, activation='sigmoid'))\n",
    "\n",
    "model.compile(loss='binary_crossentropy', metrics=['accuracy'])\n",
    "\n",
    "model.fit(X, y, epochs=10)\n",
    "\n",
    "# Show what the predicted output looks like:\n",
    "model.predict(X[:4])"
   ]
  },
  {
   "cell_type": "code",
   "execution_count": 15,
   "id": "ebda4038-37c1-4ded-9dbc-ede5a3d2976f",
   "metadata": {},
   "outputs": [
    {
     "name": "stdout",
     "output_type": "stream",
     "text": [
      "Y vector:\n",
      "[0 0 1 1 2 0 0 0 0 0 1 1 2 1 1 0 2 0 0 1 1 0 0 1 2 1 2 1 0 2 0 0 1 1 1 1 0\n",
      " 2 2 2 0 0 2 1 0 0 2 1 2 2 2 1 1 0 2 2 2 2 2 1 2 1 1 0 1 2 1 1 0 1 0 1 0 2\n",
      " 0 0 2 2 1 0 2 0 0 1 1 2 2 1 2 2 0 2 0 1 1 2 1 0 0 2]\n",
      "Epoch 1/10\n",
      "\u001b[1m4/4\u001b[0m \u001b[32m━━━━━━━━━━━━━━━━━━━━\u001b[0m\u001b[37m\u001b[0m \u001b[1m2s\u001b[0m 121ms/step - accuracy: 0.2988 - loss: 1.4573\n",
      "Epoch 2/10\n",
      "\u001b[1m4/4\u001b[0m \u001b[32m━━━━━━━━━━━━━━━━━━━━\u001b[0m\u001b[37m\u001b[0m \u001b[1m0s\u001b[0m 2ms/step - accuracy: 0.3728 - loss: 1.1425 \n",
      "Epoch 3/10\n",
      "\u001b[1m4/4\u001b[0m \u001b[32m━━━━━━━━━━━━━━━━━━━━\u001b[0m\u001b[37m\u001b[0m \u001b[1m0s\u001b[0m 3ms/step - accuracy: 0.4085 - loss: 1.0686 \n",
      "Epoch 4/10\n",
      "\u001b[1m4/4\u001b[0m \u001b[32m━━━━━━━━━━━━━━━━━━━━\u001b[0m\u001b[37m\u001b[0m \u001b[1m0s\u001b[0m 3ms/step - accuracy: 0.4988 - loss: 0.9972 \n",
      "Epoch 5/10\n",
      "\u001b[1m4/4\u001b[0m \u001b[32m━━━━━━━━━━━━━━━━━━━━\u001b[0m\u001b[37m\u001b[0m \u001b[1m0s\u001b[0m 4ms/step - accuracy: 0.5465 - loss: 0.9317 \n",
      "Epoch 6/10\n",
      "\u001b[1m4/4\u001b[0m \u001b[32m━━━━━━━━━━━━━━━━━━━━\u001b[0m\u001b[37m\u001b[0m \u001b[1m0s\u001b[0m 3ms/step - accuracy: 0.4658 - loss: 0.9510 \n",
      "Epoch 7/10\n",
      "\u001b[1m4/4\u001b[0m \u001b[32m━━━━━━━━━━━━━━━━━━━━\u001b[0m\u001b[37m\u001b[0m \u001b[1m0s\u001b[0m 3ms/step - accuracy: 0.4977 - loss: 0.8975 \n",
      "Epoch 8/10\n",
      "\u001b[1m4/4\u001b[0m \u001b[32m━━━━━━━━━━━━━━━━━━━━\u001b[0m\u001b[37m\u001b[0m \u001b[1m0s\u001b[0m 3ms/step - accuracy: 0.5721 - loss: 0.8406 \n",
      "Epoch 9/10\n",
      "\u001b[1m4/4\u001b[0m \u001b[32m━━━━━━━━━━━━━━━━━━━━\u001b[0m\u001b[37m\u001b[0m \u001b[1m0s\u001b[0m 3ms/step - accuracy: 0.5717 - loss: 0.8339 \n",
      "Epoch 10/10\n",
      "\u001b[1m4/4\u001b[0m \u001b[32m━━━━━━━━━━━━━━━━━━━━\u001b[0m\u001b[37m\u001b[0m \u001b[1m0s\u001b[0m 3ms/step - accuracy: 0.6138 - loss: 0.8072 \n",
      "\u001b[1m1/1\u001b[0m \u001b[32m━━━━━━━━━━━━━━━━━━━━\u001b[0m\u001b[37m\u001b[0m \u001b[1m0s\u001b[0m 132ms/step\n"
     ]
    },
    {
     "data": {
      "text/plain": [
       "array([[0.36347878, 0.3933103 , 0.24321091],\n",
       "       [0.35001743, 0.22281238, 0.42717016],\n",
       "       [0.24954776, 0.652322  , 0.09813014],\n",
       "       [0.31813976, 0.53950506, 0.14235511]], dtype=float32)"
      ]
     },
     "execution_count": 15,
     "metadata": {},
     "output_type": "execute_result"
    }
   ],
   "source": [
    "# Define a multiclass classification model\n",
    "X, y = make_classification(n_classes=3, n_features=10, n_samples=100, n_informative=8)\n",
    "\n",
    "print(\"Y vector:\")\n",
    "print(y)\n",
    "\n",
    "model = K.Sequential()\n",
    "model.add(K.layers.Dense(32, activation='relu'))\n",
    "model.add(K.layers.Dense(32, activation='relu'))\n",
    "model.add(K.layers.Dense(3, activation='softmax'))  # Make sure to output a vector with size = the number of classes!\n",
    "\n",
    "model.compile(loss='sparse_categorical_crossentropy', metrics=['accuracy'])\n",
    "\n",
    "model.fit(X, y, epochs=10)\n",
    "\n",
    "# Show what the predicted output looks like:\n",
    "model.predict(X[:4])"
   ]
  },
  {
   "cell_type": "markdown",
   "id": "548e1a0a-6104-4bc0-93ad-51f55c91a71d",
   "metadata": {},
   "source": [
    "# Homework\n",
    "\n",
    "1. Give three examples of regularization techniques you could use when training neural networks and explain how they work.\n",
    "2. One topic we did not cover in this lesson is the idea of weight constraints. Read the section in the Keras documentaion on [constraints](https://keras.io/api/layers/constraints/). Give an example problem where you think a constraint might make sense and explain your reasoning.\n",
    "3. Consider this loss function for classification, where we use the raw probabilities _without_ taking the logarithm:\n",
    "\n",
    "$$J(\\vec{w}) = \\frac{1}{N}\\sum_{i=1}^N \\left(y_i \\cdot p_i + (1 - y_i)\\cdot (1 - p_i)\\right)$$\n",
    "\n",
    "Based on our discussion of the log loss formula, do you think using this changed loss function would improve or harm the model training process? Why?\n",
    "\n",
    "4. In this lesson, we defined several `build` functions which create neural networks for us. Write your own build function which allows you to create a neural network. Your function should allow you to:\n",
    "  * Specify the size of the inputs and outputs\n",
    "  * Specify the number and sizes of each hidden layer\n",
    "  * Apply regularization\n",
    "  * Include dropout\n",
    "  * Include early stopping\n",
    "  * Specify the loss function\n",
    "  * Specify any metrics to watch\n",
    "\n",
    "```python\n",
    "#Use this function signature\n",
    "\n",
    "def build_neural_network(\n",
    "    n_inputs,\n",
    "    n_outputs,\n",
    "    layer_sizes,\n",
    "    dropout_rate=0.0,\n",
    "    use_early_stopping=False,\n",
    "    regularization='none',\n",
    "    regularization_strength=0.0,\n",
    "    loss_function='mse',\n",
    "    metrics=None,\n",
    "):\n",
    "    ...\n",
    "    # Fill out the funciton body\n",
    "```\n",
    "\n",
    "5. Use the [`sklearn.datasets.fetch_kddcup99`](https://scikit-learn.org/stable/modules/generated/sklearn.datasets.fetch_kddcup99.html#sklearn.datasets.fetch_kddcup99) to load the KDD Cup 99 dataset.\n",
    "(This is a classification problem)\n",
    "\n",
    "Use `sklearn`'s `train_test_split` function to create a test set.\n",
    "Use your function from (3.) to perform a hyper parameter tuning search to find the best performing hyper parameters on the test set."
   ]
  },
  {
   "cell_type": "code",
   "execution_count": null,
   "id": "33373ed7-d54c-4d68-a25c-ebc312f2912e",
   "metadata": {},
   "outputs": [],
   "source": []
  }
 ],
 "metadata": {
  "kernelspec": {
   "display_name": "Python 3 (ipykernel)",
   "language": "python",
   "name": "python3"
  },
  "language_info": {
   "codemirror_mode": {
    "name": "ipython",
    "version": 3
   },
   "file_extension": ".py",
   "mimetype": "text/x-python",
   "name": "python",
   "nbconvert_exporter": "python",
   "pygments_lexer": "ipython3",
   "version": "3.11.0rc1"
  }
 },
 "nbformat": 4,
 "nbformat_minor": 5
}
