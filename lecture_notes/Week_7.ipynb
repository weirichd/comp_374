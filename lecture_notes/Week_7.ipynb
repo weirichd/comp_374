{
 "cells": [
  {
   "cell_type": "markdown",
   "id": "e4e559ba-8af0-44bd-95d9-4ef859f496b2",
   "metadata": {},
   "source": [
    "# Transformers: Background and Foundations\n",
    "\n",
    "\n",
    "RNN (Recurrent Neural Network): An architecture designed for sequential data but prone to issues like vanishing gradients.\n",
    "Attention Mechanism: A method that allows models to focus on relevant parts of input sequences.\n",
    "Cosine Similarity: A metric for measuring the cosine of the angle between two vectors, indicating their similarity.\n",
    "Embedding Layer: A neural network layer that maps categorical data to continuous, dense vector representations.\n"
   ]
  },
  {
   "cell_type": "markdown",
   "id": "37fbe3cb-5b37-4eac-8fea-f95739a9beba",
   "metadata": {},
   "source": [
    "## Vanishing Gradient Problem\n",
    "\n",
    "The vanishing gradient problem occurs when training deep neural networks using gradient-based optimization methods like backpropagation. As gradients are propagated backward through multiple layers, they can become extremely small (i.e., \"vanish\"). This results in very slow weight updates in early layers, making it difficult for the network to learn meaningful representations. This issue is particularly common with activation functions like sigmoid or tanh, which squash large input values into a small range (e.g., $[0,1]$ for sigmoid and $[−1,1]$ for tanh), leading to small derivatives.\n"
   ]
  },
  {
   "cell_type": "code",
   "execution_count": 1,
   "id": "412ea966-60aa-414e-af9c-280daa3a8860",
   "metadata": {},
   "outputs": [],
   "source": [
    "import tensorflow as tf\n",
    "from tensorflow import keras as K\n",
    "import numpy as np\n",
    "import matplotlib.pyplot as plt\n",
    "import pandas as pd"
   ]
  },
  {
   "cell_type": "markdown",
   "id": "84651ac8-d1fa-4d7f-903f-ced8ba5cfbb4",
   "metadata": {},
   "source": [
    "Let's take a look at an example network where the vanishing gradient problem exists.\n",
    "We will try to train a neural network to solve the following problem:\n",
    "\n",
    "> Given a list of 10 numbers, is the sum of those numbers greater than 5?\n",
    "\n",
    "This is a nice problem because it should be very easy for a neural network to solve, and we can generate as much training and testing data as we require."
   ]
  },
  {
   "cell_type": "code",
   "execution_count": 2,
   "id": "c81dfa0d-3800-4af6-9b18-db0abf760614",
   "metadata": {},
   "outputs": [],
   "source": [
    "# Generate structured data: sum of inputs determines output\n",
    "np.random.seed(2)\n",
    "X_train = np.random.uniform(0, 1, size=(1000, 10))\n",
    "y_train = (X_train.sum(axis=1) > 5).astype(int)\n",
    "\n",
    "X_test = np.random.uniform(0, 1, size=(100, 10))\n",
    "y_test = (X_test.sum(axis=1) > 5).astype(int)"
   ]
  },
  {
   "cell_type": "code",
   "execution_count": 5,
   "id": "3162022d-6280-42d9-8b89-5983cc314802",
   "metadata": {},
   "outputs": [
    {
     "data": {
      "text/html": [
       "<pre style=\"white-space:pre;overflow-x:auto;line-height:normal;font-family:Menlo,'DejaVu Sans Mono',consolas,'Courier New',monospace\"><span style=\"font-weight: bold\">Model: \"sequential_1\"</span>\n",
       "</pre>\n"
      ],
      "text/plain": [
       "\u001b[1mModel: \"sequential_1\"\u001b[0m\n"
      ]
     },
     "metadata": {},
     "output_type": "display_data"
    },
    {
     "data": {
      "text/html": [
       "<pre style=\"white-space:pre;overflow-x:auto;line-height:normal;font-family:Menlo,'DejaVu Sans Mono',consolas,'Courier New',monospace\">┏━━━━━━━━━━━━━━━━━━━━━━━━━━━━━━━━━┳━━━━━━━━━━━━━━━━━━━━━━━━┳━━━━━━━━━━━━━━━┓\n",
       "┃<span style=\"font-weight: bold\"> Layer (type)                    </span>┃<span style=\"font-weight: bold\"> Output Shape           </span>┃<span style=\"font-weight: bold\">       Param # </span>┃\n",
       "┡━━━━━━━━━━━━━━━━━━━━━━━━━━━━━━━━━╇━━━━━━━━━━━━━━━━━━━━━━━━╇━━━━━━━━━━━━━━━┩\n",
       "│ dense_12 (<span style=\"color: #0087ff; text-decoration-color: #0087ff\">Dense</span>)                │ (<span style=\"color: #00d7ff; text-decoration-color: #00d7ff\">None</span>, <span style=\"color: #00af00; text-decoration-color: #00af00\">64</span>)             │           <span style=\"color: #00af00; text-decoration-color: #00af00\">704</span> │\n",
       "├─────────────────────────────────┼────────────────────────┼───────────────┤\n",
       "│ dense_13 (<span style=\"color: #0087ff; text-decoration-color: #0087ff\">Dense</span>)                │ (<span style=\"color: #00d7ff; text-decoration-color: #00d7ff\">None</span>, <span style=\"color: #00af00; text-decoration-color: #00af00\">64</span>)             │         <span style=\"color: #00af00; text-decoration-color: #00af00\">4,160</span> │\n",
       "├─────────────────────────────────┼────────────────────────┼───────────────┤\n",
       "│ dense_14 (<span style=\"color: #0087ff; text-decoration-color: #0087ff\">Dense</span>)                │ (<span style=\"color: #00d7ff; text-decoration-color: #00d7ff\">None</span>, <span style=\"color: #00af00; text-decoration-color: #00af00\">64</span>)             │         <span style=\"color: #00af00; text-decoration-color: #00af00\">4,160</span> │\n",
       "├─────────────────────────────────┼────────────────────────┼───────────────┤\n",
       "│ dense_15 (<span style=\"color: #0087ff; text-decoration-color: #0087ff\">Dense</span>)                │ (<span style=\"color: #00d7ff; text-decoration-color: #00d7ff\">None</span>, <span style=\"color: #00af00; text-decoration-color: #00af00\">64</span>)             │         <span style=\"color: #00af00; text-decoration-color: #00af00\">4,160</span> │\n",
       "├─────────────────────────────────┼────────────────────────┼───────────────┤\n",
       "│ dense_16 (<span style=\"color: #0087ff; text-decoration-color: #0087ff\">Dense</span>)                │ (<span style=\"color: #00d7ff; text-decoration-color: #00d7ff\">None</span>, <span style=\"color: #00af00; text-decoration-color: #00af00\">64</span>)             │         <span style=\"color: #00af00; text-decoration-color: #00af00\">4,160</span> │\n",
       "├─────────────────────────────────┼────────────────────────┼───────────────┤\n",
       "│ dense_17 (<span style=\"color: #0087ff; text-decoration-color: #0087ff\">Dense</span>)                │ (<span style=\"color: #00d7ff; text-decoration-color: #00d7ff\">None</span>, <span style=\"color: #00af00; text-decoration-color: #00af00\">64</span>)             │         <span style=\"color: #00af00; text-decoration-color: #00af00\">4,160</span> │\n",
       "├─────────────────────────────────┼────────────────────────┼───────────────┤\n",
       "│ dense_18 (<span style=\"color: #0087ff; text-decoration-color: #0087ff\">Dense</span>)                │ (<span style=\"color: #00d7ff; text-decoration-color: #00d7ff\">None</span>, <span style=\"color: #00af00; text-decoration-color: #00af00\">64</span>)             │         <span style=\"color: #00af00; text-decoration-color: #00af00\">4,160</span> │\n",
       "├─────────────────────────────────┼────────────────────────┼───────────────┤\n",
       "│ dense_19 (<span style=\"color: #0087ff; text-decoration-color: #0087ff\">Dense</span>)                │ (<span style=\"color: #00d7ff; text-decoration-color: #00d7ff\">None</span>, <span style=\"color: #00af00; text-decoration-color: #00af00\">64</span>)             │         <span style=\"color: #00af00; text-decoration-color: #00af00\">4,160</span> │\n",
       "├─────────────────────────────────┼────────────────────────┼───────────────┤\n",
       "│ dense_20 (<span style=\"color: #0087ff; text-decoration-color: #0087ff\">Dense</span>)                │ (<span style=\"color: #00d7ff; text-decoration-color: #00d7ff\">None</span>, <span style=\"color: #00af00; text-decoration-color: #00af00\">64</span>)             │         <span style=\"color: #00af00; text-decoration-color: #00af00\">4,160</span> │\n",
       "├─────────────────────────────────┼────────────────────────┼───────────────┤\n",
       "│ dense_21 (<span style=\"color: #0087ff; text-decoration-color: #0087ff\">Dense</span>)                │ (<span style=\"color: #00d7ff; text-decoration-color: #00d7ff\">None</span>, <span style=\"color: #00af00; text-decoration-color: #00af00\">64</span>)             │         <span style=\"color: #00af00; text-decoration-color: #00af00\">4,160</span> │\n",
       "├─────────────────────────────────┼────────────────────────┼───────────────┤\n",
       "│ dense_22 (<span style=\"color: #0087ff; text-decoration-color: #0087ff\">Dense</span>)                │ (<span style=\"color: #00d7ff; text-decoration-color: #00d7ff\">None</span>, <span style=\"color: #00af00; text-decoration-color: #00af00\">64</span>)             │         <span style=\"color: #00af00; text-decoration-color: #00af00\">4,160</span> │\n",
       "├─────────────────────────────────┼────────────────────────┼───────────────┤\n",
       "│ dense_23 (<span style=\"color: #0087ff; text-decoration-color: #0087ff\">Dense</span>)                │ (<span style=\"color: #00d7ff; text-decoration-color: #00d7ff\">None</span>, <span style=\"color: #00af00; text-decoration-color: #00af00\">1</span>)              │            <span style=\"color: #00af00; text-decoration-color: #00af00\">65</span> │\n",
       "└─────────────────────────────────┴────────────────────────┴───────────────┘\n",
       "</pre>\n"
      ],
      "text/plain": [
       "┏━━━━━━━━━━━━━━━━━━━━━━━━━━━━━━━━━┳━━━━━━━━━━━━━━━━━━━━━━━━┳━━━━━━━━━━━━━━━┓\n",
       "┃\u001b[1m \u001b[0m\u001b[1mLayer (type)                   \u001b[0m\u001b[1m \u001b[0m┃\u001b[1m \u001b[0m\u001b[1mOutput Shape          \u001b[0m\u001b[1m \u001b[0m┃\u001b[1m \u001b[0m\u001b[1m      Param #\u001b[0m\u001b[1m \u001b[0m┃\n",
       "┡━━━━━━━━━━━━━━━━━━━━━━━━━━━━━━━━━╇━━━━━━━━━━━━━━━━━━━━━━━━╇━━━━━━━━━━━━━━━┩\n",
       "│ dense_12 (\u001b[38;5;33mDense\u001b[0m)                │ (\u001b[38;5;45mNone\u001b[0m, \u001b[38;5;34m64\u001b[0m)             │           \u001b[38;5;34m704\u001b[0m │\n",
       "├─────────────────────────────────┼────────────────────────┼───────────────┤\n",
       "│ dense_13 (\u001b[38;5;33mDense\u001b[0m)                │ (\u001b[38;5;45mNone\u001b[0m, \u001b[38;5;34m64\u001b[0m)             │         \u001b[38;5;34m4,160\u001b[0m │\n",
       "├─────────────────────────────────┼────────────────────────┼───────────────┤\n",
       "│ dense_14 (\u001b[38;5;33mDense\u001b[0m)                │ (\u001b[38;5;45mNone\u001b[0m, \u001b[38;5;34m64\u001b[0m)             │         \u001b[38;5;34m4,160\u001b[0m │\n",
       "├─────────────────────────────────┼────────────────────────┼───────────────┤\n",
       "│ dense_15 (\u001b[38;5;33mDense\u001b[0m)                │ (\u001b[38;5;45mNone\u001b[0m, \u001b[38;5;34m64\u001b[0m)             │         \u001b[38;5;34m4,160\u001b[0m │\n",
       "├─────────────────────────────────┼────────────────────────┼───────────────┤\n",
       "│ dense_16 (\u001b[38;5;33mDense\u001b[0m)                │ (\u001b[38;5;45mNone\u001b[0m, \u001b[38;5;34m64\u001b[0m)             │         \u001b[38;5;34m4,160\u001b[0m │\n",
       "├─────────────────────────────────┼────────────────────────┼───────────────┤\n",
       "│ dense_17 (\u001b[38;5;33mDense\u001b[0m)                │ (\u001b[38;5;45mNone\u001b[0m, \u001b[38;5;34m64\u001b[0m)             │         \u001b[38;5;34m4,160\u001b[0m │\n",
       "├─────────────────────────────────┼────────────────────────┼───────────────┤\n",
       "│ dense_18 (\u001b[38;5;33mDense\u001b[0m)                │ (\u001b[38;5;45mNone\u001b[0m, \u001b[38;5;34m64\u001b[0m)             │         \u001b[38;5;34m4,160\u001b[0m │\n",
       "├─────────────────────────────────┼────────────────────────┼───────────────┤\n",
       "│ dense_19 (\u001b[38;5;33mDense\u001b[0m)                │ (\u001b[38;5;45mNone\u001b[0m, \u001b[38;5;34m64\u001b[0m)             │         \u001b[38;5;34m4,160\u001b[0m │\n",
       "├─────────────────────────────────┼────────────────────────┼───────────────┤\n",
       "│ dense_20 (\u001b[38;5;33mDense\u001b[0m)                │ (\u001b[38;5;45mNone\u001b[0m, \u001b[38;5;34m64\u001b[0m)             │         \u001b[38;5;34m4,160\u001b[0m │\n",
       "├─────────────────────────────────┼────────────────────────┼───────────────┤\n",
       "│ dense_21 (\u001b[38;5;33mDense\u001b[0m)                │ (\u001b[38;5;45mNone\u001b[0m, \u001b[38;5;34m64\u001b[0m)             │         \u001b[38;5;34m4,160\u001b[0m │\n",
       "├─────────────────────────────────┼────────────────────────┼───────────────┤\n",
       "│ dense_22 (\u001b[38;5;33mDense\u001b[0m)                │ (\u001b[38;5;45mNone\u001b[0m, \u001b[38;5;34m64\u001b[0m)             │         \u001b[38;5;34m4,160\u001b[0m │\n",
       "├─────────────────────────────────┼────────────────────────┼───────────────┤\n",
       "│ dense_23 (\u001b[38;5;33mDense\u001b[0m)                │ (\u001b[38;5;45mNone\u001b[0m, \u001b[38;5;34m1\u001b[0m)              │            \u001b[38;5;34m65\u001b[0m │\n",
       "└─────────────────────────────────┴────────────────────────┴───────────────┘\n"
      ]
     },
     "metadata": {},
     "output_type": "display_data"
    },
    {
     "data": {
      "text/html": [
       "<pre style=\"white-space:pre;overflow-x:auto;line-height:normal;font-family:Menlo,'DejaVu Sans Mono',consolas,'Courier New',monospace\"><span style=\"font-weight: bold\"> Total params: </span><span style=\"color: #00af00; text-decoration-color: #00af00\">42,369</span> (165.50 KB)\n",
       "</pre>\n"
      ],
      "text/plain": [
       "\u001b[1m Total params: \u001b[0m\u001b[38;5;34m42,369\u001b[0m (165.50 KB)\n"
      ]
     },
     "metadata": {},
     "output_type": "display_data"
    },
    {
     "data": {
      "text/html": [
       "<pre style=\"white-space:pre;overflow-x:auto;line-height:normal;font-family:Menlo,'DejaVu Sans Mono',consolas,'Courier New',monospace\"><span style=\"font-weight: bold\"> Trainable params: </span><span style=\"color: #00af00; text-decoration-color: #00af00\">42,369</span> (165.50 KB)\n",
       "</pre>\n"
      ],
      "text/plain": [
       "\u001b[1m Trainable params: \u001b[0m\u001b[38;5;34m42,369\u001b[0m (165.50 KB)\n"
      ]
     },
     "metadata": {},
     "output_type": "display_data"
    },
    {
     "data": {
      "text/html": [
       "<pre style=\"white-space:pre;overflow-x:auto;line-height:normal;font-family:Menlo,'DejaVu Sans Mono',consolas,'Courier New',monospace\"><span style=\"font-weight: bold\"> Non-trainable params: </span><span style=\"color: #00af00; text-decoration-color: #00af00\">0</span> (0.00 B)\n",
       "</pre>\n"
      ],
      "text/plain": [
       "\u001b[1m Non-trainable params: \u001b[0m\u001b[38;5;34m0\u001b[0m (0.00 B)\n"
      ]
     },
     "metadata": {},
     "output_type": "display_data"
    }
   ],
   "source": [
    "# Define a deep neural network with sigmoid activations\n",
    "model = K.Sequential()\n",
    "model.add(K.layers.Dense(64, activation=\"sigmoid\", input_shape=(10,)))\n",
    "for _ in range(10):  # Deep network with many layers\n",
    "    model.add(K.layers.Dense(64, activation=\"sigmoid\"))\n",
    "model.add(K.layers.Dense(1, activation=\"sigmoid\"))\n",
    "\n",
    "# Compile the model\n",
    "model.compile(optimizer=K.optimizers.SGD(learning_rate=0.01), loss=\"binary_crossentropy\", metrics=[\"accuracy\"])\n",
    "\n",
    "model.summary()"
   ]
  },
  {
   "cell_type": "code",
   "execution_count": 6,
   "id": "5d1ca169-ffa3-406b-b661-f566b313b6c0",
   "metadata": {},
   "outputs": [
    {
     "name": "stderr",
     "output_type": "stream",
     "text": [
      "WARNING: All log messages before absl::InitializeLog() is called are written to STDERR\n",
      "I0000 00:00:1742348412.259587    2272 service.cc:146] XLA service 0x7f2f60004730 initialized for platform CUDA (this does not guarantee that XLA will be used). Devices:\n",
      "I0000 00:00:1742348412.259618    2272 service.cc:154]   StreamExecutor device (0): Quadro RTX 5000, Compute Capability 7.5\n",
      "I0000 00:00:1742348412.259622    2272 service.cc:154]   StreamExecutor device (1): Quadro RTX 5000, Compute Capability 7.5\n",
      "I0000 00:00:1742348413.006764    2272 device_compiler.h:188] Compiled cluster using XLA!  This line is logged at most once for the lifetime of the process.\n"
     ]
    },
    {
     "data": {
      "image/png": "[encoded data removed]",
      "text/plain": [
       "<Figure size 1000x400 with 2 Axes>"
      ]
     },
     "metadata": {},
     "output_type": "display_data"
    }
   ],
   "source": [
    "# Train the model and observe slow learning\n",
    "# Use verbose = 0 here and only look at the plots at the end.\n",
    "history = model.fit(X_train, y_train, epochs=20, verbose=0, validation_data=(X_test, y_test))\n",
    "\n",
    "plt.figure(figsize=(10, 4))\n",
    "\n",
    "plt.subplot(1, 2, 1)\n",
    "plt.plot(history.history['loss'], label='Train')\n",
    "plt.plot(history.history['val_loss'], label='Test')\n",
    "plt.title('Loss')\n",
    "plt.xlabel(\"Epoch\")\n",
    "plt.legend()\n",
    "\n",
    "plt.subplot(1, 2, 2)\n",
    "plt.plot(history.history['accuracy'], label='Train')\n",
    "plt.plot(history.history['val_accuracy'], label='Test')\n",
    "plt.title('Accuracy')\n",
    "plt.xlabel(\"Epoch\")\n",
    "plt.legend()\n",
    "plt.tight_layout()"
   ]
  },
  {
   "cell_type": "markdown",
   "id": "31a3b251-79c9-4fd0-ac88-291bea1e8876",
   "metadata": {},
   "source": [
    "From these plots we can see that the vanishing gradient problem is causing our models's to fail in their training.\n",
    "\n",
    "There are several approaches we could take to deal with this issue, and the right one would depend on what problem we are working on.\n",
    "\n",
    "* Replace the sigmoid activation function with ReLU or other activation which does not have a vanishing gradient.\n",
    "* Try batch normalization\n",
    "* Try using an Adam optimizer\n",
    "* Try a different weights initializer\n",
    "* Use a shallower network\n",
    "\n",
    "Each of these could potentially address our problem however...\n",
    "\n",
    "\n",
    "## Vanishing Gradients and Recurrent Neural Networks\n",
    "\n",
    "The vanishing gradient problem is especially severe in Recurrent Neural Networks (RNNs) due to the way they handle sequential data and backpropagate gradients through time steps.\n",
    "\n",
    "### Gradients are Multiplied Many Times\n",
    "\n",
    "* In a standard feedforward neural network, gradients are propagated backward through layers.\n",
    "* In an RNN, gradients are propagated backward through time steps using Backpropagation Through Time\n",
    "* At each time step, the gradient of the loss with respect to earlier layers (i.e., earlier time steps) is computed as the product of many small derivatives.\n",
    "\n",
    "Since the weight updates involve multiplying gradients over many time steps, the values shrink exponentially if the derivatives are small (e.g., with sigmoid or tanh activations). This results in gradients that approach zero, making it difficult for earlier time steps to influence learning.\n",
    "\n",
    "### Long-Term Dependencies Become Hard to Learn\n",
    "\n",
    "* RNNs are designed to capture sequential dependencies, meaning that information from earlier time steps should influence later predictions.\n",
    "* Due to vanishing gradients, information from early time steps is \"forgotten\" because the weights in those steps barely update.\n",
    "* This makes it difficult for RNNs to learn long-range dependencies, where the output at time tt depends on an input from much earlier in the sequence.\n",
    "\n",
    "### Advancements in RNNs\n",
    "\n",
    "Over time, machine learning researchers devised methods to address this problem.\n",
    "New techniques such as LSTM (long-short term memory), GRU (gated recurrent unit), gradient clipping, and ReLU activations helped.\n",
    "However, ultimately a new type of network was invented which surpassed the RNN.\n",
    "\n",
    "## Enter: Transformers\n",
    "\n",
    "In 2017, a [new paper](https://arxiv.org/pdf/1706.03762) was published by researchers at Google titled \"Attentoin is all you need.\"\n",
    "In this paper, the authors introduced the transformer.\n",
    "This type of neural network eventually went on to dominate the AI industry and is behind most advancements in the last few years.\n",
    "For example, you may have heard of GPT.\n",
    "The \"T\" stands for \"transformer.\"\n",
    "\n",
    "Our goal for the next few classes is to introduce you all the the ideas that power transformers.\n",
    "This is a very big topic and could probably take up _several semsters_ of study, so we will only be able to scratch the surface!"
   ]
  },
  {
   "cell_type": "markdown",
   "id": "f6d2c355-c27a-4ada-a259-f453c39984d0",
   "metadata": {},
   "source": [
    "## Embeddings\n",
    "\n",
    "Up until now, we have focused exclusively on _continuous inputs_ to models.\n",
    "In the real world however, we frequently encounter _categorical data_.\n",
    "Examples of cateogorical data could include:\n",
    "\n",
    "* Color of a flower\n",
    "* ZIP code\n",
    "* Highest level of education achieved\n",
    "* Words\n",
    "\n",
    "And many, _many_ other examples.\n",
    "\n",
    "### Numerical Encodings of Categorical Inputs\n",
    "\n",
    "As mathematical functions, neural networks require that inputs be numerical.\n",
    "\n",
    "> $f(x) = x^2$\n",
    "> \n",
    "> $f(\\text{cat}) = ???$\n",
    "\n",
    "For this reason, we need to come up with a way to transform categorical inputs into numerical inputs.\n",
    "\n",
    "Traditionally, this is done via _one-hot-encoding_ (also called dummy variables)."
   ]
  },
  {
   "cell_type": "code",
   "execution_count": null,
   "id": "f862928e-ed65-4323-9299-3db4ab588382",
   "metadata": {},
   "outputs": [],
   "source": [
    "# We can use the pandas function pd.get_dummies to compute the one-hot encoded categorical variables\n",
    "\n",
    "data = pd.Series(['cat', 'cat', 'dog', 'monkey', 'dog'], name='animal')\n",
    "\n",
    "print(data)\n",
    "\n",
    "pd.get_dummies(data).astype(float)"
   ]
  },
  {
   "cell_type": "markdown",
   "id": "d871acd4-b5f0-49bf-b8e0-9ba3b5a0ad6a",
   "metadata": {},
   "source": [
    "The resulting features matrix contains only 1s and 0s and is suitable to be used in a neural network (or other ML model).\n",
    "\n",
    "One hot encoding fails to be useful, though, once you get into categorical variables with lots of possible values.\n",
    "Consider for example a language model which takes as it's input an English sentence and outputs 1 if the sentence has good grammar and 0 otherwise.\n",
    "The Oxford disctionary contains over 170,000 unique words (not counting misspellings)!\n",
    "Using one-hot encoding in this situation would be very bad for memory and numerical stability reasons.\n",
    "A better solution was required.\n",
    "\n",
    "## Embeddings\n",
    "\n",
    "The idea behind embeddings is to encode each category as an _n-dimensional vector_ instead of as a 1 or a 0\n",
    "\n",
    "$$\\begin{array}{ccc}\n",
    "\\text{cat} & \\rightarrow & [1.0, \\,\\,\\, -.04] \\\\\n",
    "\\text{dog} & \\rightarrow & [0.2, \\,\\,\\, 2.35] \\\\\n",
    "\\text{monkey} & \\rightarrow & [-2.3, \\,\\,\\, -0.77]\n",
    "\\end{array}$$"
   ]
  },
  {
   "cell_type": "code",
   "execution_count": null,
   "id": "e34323d8-8474-4433-a2b7-3ae85f2600cd",
   "metadata": {},
   "outputs": [],
   "source": [
    "# Plotting our word-embedding\n",
    "\n",
    "vectors = {\n",
    "    \"cat\": np.array([1.0, -0.04]),\n",
    "    \"dog\": np.array([0.2, 2.35]),\n",
    "    \"monkey\": np.array([-2.3, -0.77])\n",
    "}\n",
    "\n",
    "fig, ax = plt.subplots()\n",
    "ax.set_xlim(-3, 3)\n",
    "ax.set_ylim(-3, 3)\n",
    "ax.set_xlabel(\"X\")\n",
    "ax.set_ylabel(\"Y\")\n",
    "ax.set_title(\"Word Embedding Vectors\")\n",
    "ax.axhline(0, color='black', linewidth=0.5)\n",
    "ax.axvline(0, color='black', linewidth=0.5)\n",
    "\n",
    "for word, vec in vectors.items():\n",
    "    ax.quiver(0, 0, vec[0], vec[1], angles='xy', scale_units='xy', scale=1, color='b')\n",
    "    ax.text(vec[0], vec[1]+0.2, word, fontsize=10, color='black')\n",
    "\n",
    "plt.grid()"
   ]
  },
  {
   "cell_type": "markdown",
   "id": "6b46e928-39c8-40f2-a7a7-5b0b0bdb4e8f",
   "metadata": {},
   "source": [
    "### Why Are Embeddings Useful?\n",
    "\n",
    "* Dimensionality Reduction: Instead of using sparse one-hot encoding or high-dimensional categorical representations, embeddings condense information into a lower-dimensional space while preserving relationships.\n",
    "* Semantic Similarity: Similar entities (e.g., words in NLP or products in a recommendation system) tend to have similar embeddings, allowing models to leverage these relationships.\n",
    "* Efficient Learning: Embeddings allow neural networks to learn more generalized patterns and relationships rather than treating categorical data as independent and unrelated entities.\n",
    "* Transferability: Pretrained embeddings, such as Word2Vec, GloVe, or BERT embeddings in NLP, can be transferred across tasks, enabling better generalization with fewer data points.\n",
    "\n",
    "### Embedding Layers In Keras\n",
    "\n",
    "Let's try out an example embedding layer using Keras."
   ]
  },
  {
   "cell_type": "code",
   "execution_count": null,
   "id": "b1de6eb0-d840-4023-b783-59c69a9e28f2",
   "metadata": {},
   "outputs": [],
   "source": [
    "# Define vocabulary size and embedding dimensions\n",
    "vocab_size = 10  # Assume we have 10 unique words\n",
    "embedding_dim = 4  # Each word will be represented by a 4D vector\n",
    "\n",
    "model = K.Sequential([\n",
    "    K.layers.Input((3, )),\n",
    "    K.layers.Embedding(input_dim=vocab_size, output_dim=embedding_dim),\n",
    "    K.layers.Flatten(),  # Flatten the embedding output for use in a dense layer\n",
    "    K.layers.Dense(1, activation='sigmoid')  # Dummy output layer\n",
    "])\n",
    "\n",
    "# Print model summary\n",
    "model.summary()"
   ]
  },
  {
   "cell_type": "code",
   "execution_count": null,
   "id": "ce912f46-0146-4452-825c-8b3721b5e611",
   "metadata": {},
   "outputs": [],
   "source": [
    "# Sample input: a batch of word indices\n",
    "sample_input = np.array([[1, 2, 3], [4, 5, 6]])  # Example word indices"
   ]
  },
  {
   "cell_type": "markdown",
   "id": "0b8ac251-fb99-4e4f-952b-a7571a791292",
   "metadata": {},
   "source": [
    "## Cosine Similarity\n",
    "\n",
    "> _Cosine similarity_ is a metric used to measure how similar two vectors are regardless of their magnitude. It calculates the cosine of the angle between two vectors in a multi-dimensional space. A cosine similarity of 1 means the vectors are identical, while a cosine similarity of 0 means they are orthogonal (completely different).\n",
    "\n",
    "## Calculation\n",
    "\n",
    "To calculate the cosine similarity of two vectors, we rely on this fact about the vector dot product.\n",
    "For two vectors $\\vec{v}$ and $\\vec{w}$,\n",
    "$$\\vec{v} \\cdot \\vec{w} = ||\\vec{v}|| \\cdot ||\\vec{w}|| \\cdot \\cos(\\theta)$$\n",
    "where $||\\vec{v}||$ means the magnitude of $\\vec{v}$, and $\\theta$ is the angle between $\\vec{v}$ and $\\vec{w}$.\n",
    "Rearranging, we get\n",
    "$$\\cos(\\theta) = \\frac{\\vec{v} \\cdot \\vec{w}}{||\\vec{v}|| \\cdot ||\\vec{w}||}$$\n",
    "the formula for cosine similarity.\n",
    "\n",
    "## Properties\n",
    "\n",
    "* Range of $[-1, 1]$ (notice square brackets, so -1, and 1 are possible values)\n",
    "* If the cosine similarity of two vectors equals 1, those vectors point in exactly the same direction\n",
    "* If the cosine similarity of two vectors equals 0, those vectors are orthogonal\n",
    "\n",
    "## Example Calculating Cosine Similarity\n",
    "\n",
    "Let's do some examples of calculating cosine similarity\n",
    "\n",
    "$$\\vec{v} = [1, -1, 3, 5]$$\n",
    "$$\\vec{w} = [-4, 2, 1, 2]$$\n",
    "\n",
    "First, calculate the vectors magnitudes:\n",
    "\n",
    "$$||\\vec{v}|| = \\sqrt{(1)^2 +  (-1)^2 + (3)^2 + (5)^2} = \\sqrt{1 + 1 + 9 + 25} = \\sqrt{36} = 6$$\n",
    "$$||\\vec{w}|| = \\sqrt{(-4)^2 + (2)^2 + (1)^2 + (2)^2}= \\sqrt{16 + 4 + 1 + 4} = \\sqrt{25} = 5$$\n",
    "\n",
    "Next, let's calculate the dot product of $\\vec{v}$ and $\\vec{w}$:\n",
    "\n",
    "$$\\vec{v} \\cdot \\vec{w} = (1)(-4) + (-1)(2) + (3)(1) + (5)(2) = -4 - 2 + 3 + 10 = 7.$$\n",
    "\n",
    "Putting it all together, we get:\n",
    "\n",
    "$$\\cos(\\theta) = \\frac{\\vec{v} \\cdot \\vec{w}}{||\\vec{v}||\\cdot ||\\vec{w}||} = \\frac{7}{6 \\cdot 5} \\approx .2333$$\n",
    "\n",
    "Note that we _could_ use the $\\cos^{-1}$ function get $\\theta$ (which would give us 1.34 radians) but in our use case _we do not care_ about $\\theta$, we only need the cosine similarity."
   ]
  },
  {
   "cell_type": "code",
   "execution_count": null,
   "id": "a48ccf2d-802f-45ae-af3d-dbbf00119f23",
   "metadata": {},
   "outputs": [],
   "source": [
    "# Check our work using numpy\n",
    "\n",
    "v = np.array([1, -1, 3, 5])\n",
    "w = np.array([-4, 2, 1, 2])\n",
    "\n",
    "cosine_sim = (v @ w) / (np.linalg.norm(v) * np.linalg.norm(w))\n",
    "\n",
    "print(f\"Cosine similarity of v and w = {cosine_sim:0.4f}\")"
   ]
  },
  {
   "cell_type": "markdown",
   "id": "3471ac77-63a4-47da-acbb-582a6bcd0ec2",
   "metadata": {},
   "source": [
    "## What is Attention?\n",
    "\n",
    "The attention mechanize consists of three matrices:\n",
    "\n",
    "* $Q$, the query matrix\n",
    "* $K$, the key matrix\n",
    "* $V$, the value matrix\n",
    "\n",
    "These matrices are combined into the _attention formula_:\n",
    "\n",
    "$$\\text{Attention}(Q, K, V) = \\text{softmax}\\left(\\frac{QK^T}{\\sqrt{d_k}}\\right)V$$\n",
    "\n",
    "Where $d_k$ is the dimension of the key vectors.\n",
    "\n",
    "---\n",
    "\n",
    "Let's break this formula down piece by piece before jumping into examples with code.\n",
    "\n",
    "## Query and Key\n",
    "\n",
    "The query matrix contains a collection of embedding vectors from input data:\n",
    "\n",
    "> **Input** = \"The root of suffering is attachment.\"\n",
    "> \n",
    "> (-Buddha)\n",
    "\n",
    "We take each token (word) in this input and look up its embedding vector:\n",
    "\n",
    "$$Q = \\left[\\begin{matrix}\n",
    "\\uparrow & \\uparrow & \\cdots & \\uparrow \\\\\n",
    "\\vec{v}_{\\text{the}} & \\vec{v}_{\\text{root}} & \\cdots & \\vec{v}_{\\text{suffering}} \\\\\n",
    "\\downarrow & \\downarrow & \\cdots & \\downarrow \n",
    "\\end{matrix}\\right]$$\n",
    "\n",
    "The key matrix is multiplied by the query matrix.\n",
    "\n",
    "$$QK^T$$\n",
    "\n",
    "By convention, we multiply by the transpose of $K$ so that $K$ and $Q$ have the same number of columns.\n",
    "\n",
    "> Let's think again about what the matrix product is actually doing here.\n",
    "> For two matrices $A$ and $B$, the matrix product $C = AB$ has the property that \n",
    "> $$c^{(i)}_j = \\vec{a}_j \\cdot \\vec{b}^{(i)}.$$\n",
    "> In other words, the entries of the resulting product matrix are exactly the dot product of a row from $A$ and a column from $B$.\n",
    "\n",
    "From our discussion of the cosine similarity, we know that the dot product makes up the numerator of the cosine similarity calculation.\n",
    "\n",
    "> _But what about dividing by the product of the magnitudes?_\n",
    ">\n",
    "> Originally, this is what people had done in attention models, however experimentation found that removing this normalization step improved model convergence. Instead, we divide by $\\sqrt{d_k}$ which has shown to overall work better.\n",
    "\n",
    "At this point, then, we have a matrix $d_k^{1/2} \\cdot (QK^T)$ which contains entries which measure something like the similarity of each vector in the query with each vector in the key.\n",
    "\n",
    "## Softmax\n",
    "\n",
    "The next step is to apply the softmax function. Recall\n",
    "$$\\text{softmax}\\left(\\vec{x}\\right) = \\frac{1}{\\sum_{j=0}^N e^{x_j}} \\cdot \\left[\\begin{array}{c}\n",
    "e^{x_0} \\\\\n",
    "\\vdots \\\\\n",
    "e^{x_N}\n",
    "\\end{array} \\right]$$\n",
    "is a function which transforms a vector of real numbers into a vector which we can interpret as probabilites.\n",
    "The largest entry in the input vector will get the largest probability in the output vector.\n",
    "(Note: \"large\" here means positive. A big negative number would be considered \"small\")\n",
    "\n",
    "Applying softmax to a matrix just means applying softmax to each column of that matrix.\n",
    "The result of the expression\n",
    "$$\\text{softmax}\\left(\\frac{QK^T}{\\sqrt{d_k}}\\right)$$\n",
    "can therefore be interpreted as a matrix whose columns contain the probabilty information about similarity of the columns of $Q$ and the columns of $K$.\n",
    "This result is called the _attention scores._\n",
    "\n",
    "### The Value Matrix\n",
    "\n",
    "The last component of the attention formula is to multiply by the value matrix $V$.\n",
    "The value matrix contains vectors which are the actual information which the attention scores will retrieve.\n",
    "\n",
    "### A Brief Pause\n",
    "\n",
    "It is worth taking a moment here to acknoledge that what we have just gone over here is _complicated_ and will be a little much to grasp the first time.\n",
    "If you feel a little overwhelmed, know that that is normal and totally okay!\n",
    "Take a breather and let it simmer in your mind.\n",
    "Come back after a bit and re-read this section when you feel ready!"
   ]
  },
  {
   "cell_type": "code",
   "execution_count": null,
   "id": "e1ba8461-7ddb-41b0-8431-ca455f5326dc",
   "metadata": {},
   "outputs": [],
   "source": [
    "# Define example Q, K, V tensors\n",
    "\n",
    "query = tf.constant([\n",
    "    [1.0, 0.0, 0.0]\n",
    "], dtype=tf.float32)  # Shape (1, 3)\n",
    "\n",
    "key = tf.constant([\n",
    "    [1.0, 0.5, 0.0], \n",
    "    [0.0, 1.0, 0.5], \n",
    "    [0.5, 0.0, 1.0]],\n",
    "dtype=tf.float32)  # Shape (3, 3)\n",
    "\n",
    "value = tf.constant([\n",
    "    [1.0, 2.0], \n",
    "    [3.0, 4.0], \n",
    "    [5.0, 6.0]\n",
    "], dtype=tf.float32)  # Shape (3, 2)\n",
    "\n",
    "# Compute dot product of Q and K^T\n",
    "attention_scores = tf.matmul(query, key, transpose_b=True)\n",
    "\n",
    "\n",
    "print(\"Attention Scores:\\n\", attention_scores.numpy())"
   ]
  },
  {
   "cell_type": "code",
   "execution_count": null,
   "id": "155072a4-0ecc-49c0-ace8-f0229366a733",
   "metadata": {},
   "outputs": [],
   "source": [
    "d_k = tf.cast(tf.shape(key)[-1], tf.float32)  # Dimension of key vectors\n",
    "\n",
    "# Apply softmax to get attention weights\n",
    "attention_weights = tf.nn.softmax(attention_scores / tf.sqrt(d_k), axis=-1)\n",
    "\n",
    "print(\"Attention Weights:\\n\", attention_weights.numpy())"
   ]
  },
  {
   "cell_type": "code",
   "execution_count": null,
   "id": "d109c357-1aa0-426f-bdf5-cb1235061e47",
   "metadata": {},
   "outputs": [],
   "source": [
    "# Compute weighted sum\n",
    "attention_output = tf.matmul(attention_weights, value)\n",
    "print(\"Attention Output:\\n\", attention_output.numpy())"
   ]
  },
  {
   "cell_type": "markdown",
   "id": "9af4c1bb-843b-4ced-8dea-34e6e2037016",
   "metadata": {},
   "source": [
    "# Final Notes\n",
    "\n",
    "This week we laid the groudwork for building a transformer based model.\n",
    "In the following weeks, we will look at how to take these components and build a deep neural network!"
   ]
  },
  {
   "cell_type": "markdown",
   "id": "7783ed94-5b55-464a-8d0b-ac8eeaa30a53",
   "metadata": {},
   "source": [
    "# Homework\n",
    "\n",
    "1. What do you think is the main advantage that transformers and attention have over recurrent neural networks?\n",
    "3. Consider this Python dictionary as an embedding:\n",
    "\n",
    "```python\n",
    "embedding = {\n",
    "    \"am\": np.array([-0.3, -0.1, -0.3]),\n",
    "    \"enemy\": np.array([-0.3,  0.1, -1.0]),\n",
    "    \"fast\": np.array([ 1.5,  1.3, -1.0]),\n",
    "    \"friend\": np.array([-0.3,  0.4, -1.0]),\n",
    "    \"happy\": np.array([-0.6,  0.1, -0.5]),\n",
    "    \"hate\": np.array([-0.7,  0.6,  0.1]),\n",
    "    \"I\": np.array([ 1.2,  1.5, -0.1]),\n",
    "    \"love\": np.array([-0.3, -1.0,  0.7]),\n",
    "    \"sad\": np.array([0.4, 1.4, 2.3]),\n",
    "    \"slow\": np.array([0.8, 1.8, 0.5])\n",
    "}\n",
    "```\n",
    "\n",
    "Write a python function which will construct a query matrix from an input string which words from the dictionary.\n",
    "\n",
    "```python\n",
    "def get_query_string(s: str):\n",
    "    # Define the function here\n",
    "\n",
    "    return query_matrix\n",
    "```\n",
    "\n",
    "Hint: You may want to use the [hstack](https://numpy.org/doc/stable/reference/generated/numpy.hstack.html) function in numpy.\n",
    "\n",
    "3. Use your function from 2. to create a query matrix for the sentence \"I am happy\"\n",
    "\n",
    "4. Consider these key and value matries:\n",
    "$$K = \\left[\\begin{matrix}\n",
    "1 & 1 & 0 \\\\\n",
    "0 & 1 & 1 \\\\\n",
    "1 & 0 & -1 \\\\\n",
    "-1 & 0 & 0\n",
    "\\end{matrix}\\right] \\,\\,\\,\\,\\,\\,\\,\\,\\,\\,\n",
    "V = \\left[\\begin{matrix}\n",
    "1 & 2 \\\\\n",
    "3 & 4 \\\\\n",
    "5 & 6\n",
    "\\end{matrix}\\right]$$\n",
    "\n",
    "Compute the attention function of $K$, $V$, and $Q$ from the problem 3.\n",
    "You can do this either using numpy or tensorflow to do the matrix opperations."
   ]
  }
 ],
 "metadata": {
  "kernelspec": {
   "display_name": "Python 3 (ipykernel)",
   "language": "python",
   "name": "python3"
  },
  "language_info": {
   "codemirror_mode": {
    "name": "ipython",
    "version": 3
   },
   "file_extension": ".py",
   "mimetype": "text/x-python",
   "name": "python",
   "nbconvert_exporter": "python",
   "pygments_lexer": "ipython3",
   "version": "3.11.0rc1"
  }
 },
 "nbformat": 4,
 "nbformat_minor": 5
}
