{
 "cells": [
  {
   "cell_type": "markdown",
   "id": "0e826cce-a00e-4ade-91ae-14829ebca8b2",
   "metadata": {},
   "source": [
    "# AI Ethics\n",
    "\n",
    "This week, students will watch the suggested youtube videos.\n",
    "We will then have an open discussion about some of the various issues.\n",
    "\n",
    "**Suggested Topics to Cover**\n",
    "\n",
    "* AI Alignment\n",
    "* Data bias\n",
    "* Model limitations\n",
    "* Copyright and data theft\n",
    "* Economic and social impact of AI replacing jobs\n",
    "\n",
    "Students may also come with their own ideas of things to discuss.\n",
    "\n",
    "At the end of this discussion, students should have a more complete idea about some of the challanges that AI advancement will have in the coming years."
   ]
  },
  {
   "cell_type": "markdown",
   "id": "e6338a8e-d104-4f7b-a278-a0ab0b8dd15b",
   "metadata": {},
   "source": [
    "# Homework\n",
    "\n",
    "For this weeks assignment, write a short five paragraph essay about an AI ethics related issue you are interested in.\n",
    "Feel free to use some relevant issues from your own life, career, or anything you are interested in.\n",
    "Describe in detail the problem you are worried about and what solutions you think would be worth looking into.\n",
    "\n",
    "The purpose of this assignment is to get you to think about these problems! Don't stress too much about writing the \"right thing.\"\n",
    "The issue of AI ethics is a new and fascinating field!"
   ]
  }
 ],
 "metadata": {
  "kernelspec": {
   "display_name": "Python 3 (ipykernel)",
   "language": "python",
   "name": "python3"
  },
  "language_info": {
   "codemirror_mode": {
    "name": "ipython",
    "version": 3
   },
   "file_extension": ".py",
   "mimetype": "text/x-python",
   "name": "python",
   "nbconvert_exporter": "python",
   "pygments_lexer": "ipython3",
   "version": "3.11.0rc1"
  }
 },
 "nbformat": 4,
 "nbformat_minor": 5
}
