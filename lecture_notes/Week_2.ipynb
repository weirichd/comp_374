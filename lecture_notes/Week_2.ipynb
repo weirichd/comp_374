{
 "cells": [
  {
   "cell_type": "markdown",
   "id": "339c6fe3",
   "metadata": {},
   "source": [
    "# Week 2: Introduction to Neural Networks\n",
    "\n",
    "\n",
    "In this section, we will introduce neural networks.\n",
    "\n",
    "## Overview\n",
    "\n",
    "* General-purpose curve fitting requirements\n",
    " *  A function which is robust enough to fit any data we throw at it\n",
    " *  A training algorithm for this function which conforms to physical constraints of a computer\n",
    "* Why are neural networks a good solution?\n",
    "* Neural networks as mathematical function\n",
    "* Deep vs. Shallow networks\n",
    "* First look at Tensorflow and Keras\n",
    "\n",
    "**Key Vocab:**\n",
    "\n",
    "* Neural Network\n",
    "* Universal Approximation Theorem\n",
    "* Feed-Forward Neural Network\n",
    "* Deep Learning\n",
    "* Weights/Bias\n",
    "* Activation Function\n",
    "* Layer\n",
    "* Keras\n",
    " * Sequential Model\n",
    " * Dense Layers\n",
    " * Model Compilation"
   ]
  },
  {
   "cell_type": "code",
   "execution_count": 8,
   "id": "63f6a3e1",
   "metadata": {},
   "outputs": [
    {
     "name": "stderr",
     "output_type": "stream",
     "text": [
      "2024-12-02 13:49:16.413960: I tensorflow/core/util/port.cc:153] oneDNN custom operations are on. You may see slightly different numerical results due to floating-point round-off errors from different computation orders. To turn them off, set the environment variable `TF_ENABLE_ONEDNN_OPTS=0`.\n",
      "2024-12-02 13:49:16.414900: I external/local_xla/xla/tsl/cuda/cudart_stub.cc:32] Could not find cuda drivers on your machine, GPU will not be used.\n",
      "2024-12-02 13:49:16.417685: I external/local_xla/xla/tsl/cuda/cudart_stub.cc:32] Could not find cuda drivers on your machine, GPU will not be used.\n",
      "2024-12-02 13:49:16.424800: E external/local_xla/xla/stream_executor/cuda/cuda_fft.cc:477] Unable to register cuFFT factory: Attempting to register factory for plugin cuFFT when one has already been registered\n",
      "WARNING: All log messages before absl::InitializeLog() is called are written to STDERR\n",
      "E0000 00:00:1733165356.437954   35757 cuda_dnn.cc:8310] Unable to register cuDNN factory: Attempting to register factory for plugin cuDNN when one has already been registered\n",
      "E0000 00:00:1733165356.441839   35757 cuda_blas.cc:1418] Unable to register cuBLAS factory: Attempting to register factory for plugin cuBLAS when one has already been registered\n",
      "2024-12-02 13:49:16.455305: I tensorflow/core/platform/cpu_feature_guard.cc:210] This TensorFlow binary is optimized to use available CPU instructions in performance-critical operations.\n",
      "To enable the following instructions: AVX2 AVX512F AVX512_VNNI FMA, in other operations, rebuild TensorFlow with the appropriate compiler flags.\n"
     ]
    }
   ],
   "source": [
    "# Libraries we will use in this lesson\n",
    "\n",
    "import matplotlib.pyplot as plt\n",
    "import numpy as np\n",
    "import tensorflow as tf\n",
    "import tensorflow.keras as K"
   ]
  },
  {
   "cell_type": "markdown",
   "id": "940c34ea",
   "metadata": {},
   "source": [
    "## General Purpose Curve Fitting\n",
    "\n",
    "We want a mathematical function which satisfies the following requirements:\n",
    "\n",
    "1. The function is robust enough to allow it to fit any general data by setting the function's parameters\n",
    "2. There is a companion training algorithm which we can use to _find_ good parameters\n",
    "\n",
    "It turns out that these two requirements can be satisfied with a _neural network_.\n",
    "\n",
    "## Our First Neural Network as a Mathematical Function\n",
    "\n",
    "Over the next few sections, we will build up a neural network mathematically, and then implement it in Python.\n",
    "\n",
    "Let's begin by giving the formal definition of a basic neural network:\n",
    "\n",
    "---\n",
    "\n",
    "**Neural Network**\n",
    "\n",
    "Let $F$ be a function\n",
    "\n",
    "$$F\\left(\\vec{x}; W_0, W_1, \\vec{b}_0, \\vec{b}_1\\right) = \\hat{y}$$\n",
    "\n",
    "where $\\vec{x}$ is an input vector, $W_0$ and $W_1$ are parameter matrices, \n",
    "$\\vec{b}_0$, and $\\vec{b}_1$ are parameter vectors, and $\\hat{y}$ is the output vector.\n",
    "The function $F$ has the form\n",
    "\n",
    "$$F(\\vec{x}) = \\phi_1\\left(W_1 \\phi_0\\left(W_0\\vec{x} + \\vec{b}_0\\right) + \\vec{b}_1\\right)$$\n",
    "\n",
    "where $\\phi_0$ is a nonlinear function, and $\\phi_1$ is a (not necessarily nonlinear) function.\n",
    "\n",
    "Then $F$ is said to be a *single layer neural network*.\n",
    "The functions $\\phi_0$ and $\\phi_1$ are called _activation functions_.\n",
    "The matrices $W_0$ and $W_1$ are called _weight matrices_.\n",
    "The vectors $\\vec{b}_0$ and $\\vec{b}_1$ are called _bias vectors._\n",
    "\n",
    "---"
   ]
  },
  {
   "cell_type": "markdown",
   "id": "1350529a",
   "metadata": {},
   "source": [
    "We will now implement this function in Python, using `numpy` to handle our matrix multiplication.\n",
    "\n",
    "For now, we will omit the outside activation function $\\phi_1$.\n",
    "For the inside activation function $\\phi_0$, we will use a simple signum function:\n",
    "\n",
    "$$\\phi_0(x) = \\left\\{\\begin{array}{ccc}\n",
    "0 & \\text{if} & x \\leq 0 \\\\\n",
    "1 & \\text{if} & x > 0\n",
    "\\end{array}\\right.\n",
    "$$\n",
    "\n",
    "Remember, that _any_ non-linear function will work here, this one is just very easy to work with for the time being."
   ]
  },
  {
   "cell_type": "code",
   "execution_count": 2,
   "id": "e93c9ab9",
   "metadata": {},
   "outputs": [],
   "source": [
    "def step(x):\n",
    "    \"\"\"An activation function which returns 0 for negative values and 1 for positive values.\"\"\"\n",
    "    \n",
    "    return np.where(x <= 0, 0, 1)"
   ]
  },
  {
   "cell_type": "code",
   "execution_count": 3,
   "id": "e5f7147f",
   "metadata": {},
   "outputs": [
    {
     "data": {
      "text/plain": [
       "Text(0.5, 1.0, 'Step Activation Function')"
      ]
     },
     "execution_count": 3,
     "metadata": {},
     "output_type": "execute_result"
    },
    {
     "data": {
      "image/png": "[encoded data removed]",
      "text/plain": [
       "<Figure size 640x480 with 1 Axes>"
      ]
     },
     "metadata": {},
     "output_type": "display_data"
    }
   ],
   "source": [
    "xs = np.linspace(-3, 3, 100)\n",
    "ys = step(xs)\n",
    "\n",
    "plt.plot(xs, ys, '--')\n",
    "plt.title(\"Step Activation Function\")"
   ]
  },
  {
   "cell_type": "markdown",
   "id": "ba30574c",
   "metadata": {},
   "source": [
    "Next, we will implement the neural network class.\n",
    "For now, we will pass in the weight and bais matrices as parameters."
   ]
  },
  {
   "cell_type": "code",
   "execution_count": 4,
   "id": "b68cf0c7",
   "metadata": {},
   "outputs": [],
   "source": [
    "class MyNeuralNetwork:\n",
    "    \"\"\"A simple neural network class.\"\"\"\n",
    "    \n",
    "    def __init__(self, w0, w1, b0, b1):\n",
    "        # Store the parameter matrices as class attributes\n",
    "        self.w0 = w0\n",
    "        self.w1 = w1\n",
    "        self.b0 = b0\n",
    "        self.b1 = b1\n",
    "    \n",
    "    def __call__(self, x):\n",
    "        \"\"\"Call the NN function.\"\"\"\n",
    "        \n",
    "        # Note: We multiply the matrix on the right in the code\n",
    "        #       to satisfy numpy's requirements.\n",
    "        \n",
    "        return step(x @ self.w0 + self.b0) @ self.w1 + self.b1"
   ]
  },
  {
   "cell_type": "markdown",
   "id": "a50c00f4",
   "metadata": {},
   "source": [
    "We will now test this neural class network out!\n",
    "Let's create a simple function of one variable, which has one output:"
   ]
  },
  {
   "cell_type": "code",
   "execution_count": 5,
   "id": "4d55b853",
   "metadata": {},
   "outputs": [
    {
     "data": {
      "text/plain": [
       "Text(0.5, 1.0, 'Simple Neural Network')"
      ]
     },
     "execution_count": 5,
     "metadata": {},
     "output_type": "execute_result"
    },
    {
     "data": {
      "image/png": "[encoded data removed]",
      "text/plain": [
       "<Figure size 640x480 with 1 Axes>"
      ]
     },
     "metadata": {},
     "output_type": "display_data"
    }
   ],
   "source": [
    "# Testing out the Neural Network Class\n",
    "\n",
    "nn = MyNeuralNetwork(\n",
    "    w0 = np.array([[1, 3, -2]]),     # 1 x 3 matrix\n",
    "    w1 = np.array([[0], [1], [3]]),  # 3 x 1 matrix\n",
    "    b0 = np.array([-1, 4, 1]),       # 3-vector\n",
    "    b1 = np.array([-2]),             # 1-vector\n",
    ")\n",
    "\n",
    "\n",
    "# Make a plot of the output\n",
    "xs = np.linspace(-5, 5, 100).reshape(-1, 1)\n",
    "ys = nn(xs)\n",
    "\n",
    "plt.plot(xs, ys, '--')\n",
    "plt.title(\"Simple Neural Network\")"
   ]
  },
  {
   "cell_type": "markdown",
   "id": "fe382019",
   "metadata": {},
   "source": [
    "### A Notation Simplification\n",
    "\n",
    "Let's make a simplification to our neural network's implementation.\n",
    "Notice that we always multiply by a weight matrix and then add a bias vector.\n",
    "\n",
    "$$W\\vec{x} + \\vec{b}$$\n",
    "\n",
    "We can simplify this by creating the convention that our feature vector $\\vec{x}$ will always have a 1 in the first position:\n",
    "\n",
    "$$\\left[x_1 \\, x_2 \\, ... \\, x_n \\right] \\rightarrow \\left[1 \\, x_1 \\, x_2 \\, ... \\, x_n \\right]$$\n",
    "\n",
    "We can then append the bias vector $\\vec{b}$ to the weight matrix $W$:\n",
    "\n",
    "$$\\left[\\begin{array}{ccc}\n",
    "\\vdots & & \\vdots \\\\\n",
    "\\vec{w}_1 &\\cdots & \\vec{w}_n \\\\\n",
    "\\vdots & & \\vdots\n",
    "\\end{array}\\right] \\rightarrow \\left[\\begin{array}{cccc}\n",
    "\\vdots & \\vdots & & \\vdots \\\\\n",
    "\\vec{b} & \\vec{w}_1 &\\cdots & \\vec{w}_n \\\\\n",
    "\\vdots & \\vdots & & \\vdots\n",
    "\\end{array}\\right]$$\n",
    "\n",
    "With the $\\vec{b}$ vector incorporated into the $W$ matrix, we can now rewrite our neural network formula:\n",
    "\n",
    "$$F(\\vec{x}) = \\phi_1\\left(W_1 \\phi_0\\left(W_0\\vec{x}\\right)\\right)$$\n",
    "\n",
    "We can now refer to the 1 in the $\\vec{x}$ vector as $x_0$ and the bias vector as $\\vec{w}_0$.\n",
    "\n",
    "---\n",
    "\n",
    "Next, let's incorporate this simplification into our Python class:"
   ]
  },
  {
   "cell_type": "code",
   "execution_count": 6,
   "id": "ca44161a",
   "metadata": {},
   "outputs": [],
   "source": [
    "class MyNeuralNetworkV2:\n",
    "    \"\"\"A simple neural network class.\"\"\"\n",
    "    \n",
    "    def __init__(self, w0, w1):\n",
    "        self.w0 = w0\n",
    "        self.w1 = w1\n",
    "    \n",
    "    def __call__(self, x):\n",
    "        \"\"\"Call the NN function.\"\"\"\n",
    "        \n",
    "        # Append 1 to the first position of the x vector\n",
    "        ones_vector = np.ones_like(x[:, :1])\n",
    "        x = np.hstack([ones_vector, x])\n",
    "        \n",
    "        # Apply activation function\n",
    "        z = step(x @ self.w0)\n",
    "\n",
    "        # Append 1 vector to first position\n",
    "        ones_vector = np.ones_like(z[:, :1])\n",
    "        z = np.hstack([ones_vector, z])\n",
    "        \n",
    "        # Return result\n",
    "        return z @ self.w1"
   ]
  },
  {
   "cell_type": "code",
   "execution_count": 7,
   "id": "b0c2b8ef",
   "metadata": {},
   "outputs": [
    {
     "data": {
      "text/plain": [
       "Text(0.5, 1.0, 'Simple Neural Network - Simplified version')"
      ]
     },
     "execution_count": 7,
     "metadata": {},
     "output_type": "execute_result"
    },
    {
     "data": {
      "image/png": "[encoded data removed]",
      "text/plain": [
       "<Figure size 640x480 with 1 Axes>"
      ]
     },
     "metadata": {},
     "output_type": "display_data"
    }
   ],
   "source": [
    "# Testing out the Neural Network Class\n",
    "# This should look the same as before\n",
    "\n",
    "nn = MyNeuralNetworkV2(\n",
    "    w0 = np.array([[-1, 4, 1], [1, 3, -2]]),     # 2 x 3 matrix\n",
    "    w1 = np.array([[-2], [0], [1], [3]]),  # 4 x 1 matrix\n",
    ")\n",
    "\n",
    "\n",
    "# Make a plot of the output\n",
    "xs = np.linspace(-5, 5, 100).reshape(-1, 1)\n",
    "ys = nn(xs)\n",
    "\n",
    "plt.plot(xs, ys, '--')\n",
    "plt.title(\"Simple Neural Network - Simplified version\")"
   ]
  },
  {
   "cell_type": "markdown",
   "id": "2d512969",
   "metadata": {},
   "source": [
    "## Neural Networks as a Sequence of Layers"
   ]
  },
  {
   "cell_type": "markdown",
   "id": "ae01a9c5-1f55-469d-b8a0-78f1a46eeaf4",
   "metadata": {},
   "source": [
    "While the formulation of neural networks we have developed above is useful for simple situations,\n",
    "it can often be useful to think about them in a slightly different way once things get more complicated.\n",
    "\n",
    "---\n",
    "\n",
    "<center>\n",
    "<img src=\"../images/Colored_neural_network.svg\" />\n",
    "\n",
    "**image source: Wikipedia**\n",
    "</center>\n",
    "\n",
    "---\n",
    "\n",
    "Here we have a typical illustration of a neural network with individual neurons as circles, and the weights as arrows. This network has one input layer, one hidden layer, and one output layer.\n",
    "\n",
    "This conceptualization of neural networks as being built out of layers does not change the underlying math, it is only a way to help us reason about the network.\n",
    "In our mathematical function, the input layer corresponds to the vector $\\vec{x}$, the hidden layer corresponds to the first matrix multiplication and activation $\\phi_0(W_0\\vec{x})$, and the output layer corresponds to the value of the entire function $F$.\n",
    "\n",
    "\n",
    "## Tensorflow and Keras\n",
    "\n",
    "We will now abandon our intial neural network code we wrote ourselves in favor of a newtwork which uses Keras.\n",
    "\n",
    "### What is Tensorflow?\n",
    "\n",
    "Tensorflow is a low-level library, implemented in C, and wrapped with a Python API which allows us to create neural networks out of mathematical functions.\n",
    "The main benefits of Tensorflow is that it allows us to efficiently run our networks on a CPU or GPU, and the ability to automatically compute derivitives.\n",
    "We will learn more about why this is important in a future lesson when we talk about training.\n",
    "The reason we say this is is low level is because Tensorflow code tends to resemble the mathematical functional view of a neural network.\n",
    "\n",
    "Tensorflow is created and maintained by Google.\n",
    "There is a competing library called _PyTorch_ which was created by Facebook.\n",
    "Nowadays, Tensorflow tends to be more popular in industry, while PyTorch tends to be more popular in industry\n",
    "(although this is not universally true).\n",
    "\n",
    "\n",
    "### What is Keras?\n",
    "\n",
    "Keras is a high-level library built on top of Tensorflow which allows you to build neural networks using the more approachable concepts of layers.\n",
    "While originally a separate library, Keras was officially incorporated into Tensorflow in version 2.0 and now comes standard with all Tensorflow installations.\n",
    "\n",
    "Check out the Keras documentation [here](https://keras.io/api/) to learn more.\n",
    "\n",
    "### Creating a Neural Network Using Keras\n",
    "\n",
    "To create a neural network with Keras, we will use the `Sequential` API.\n",
    "There is also a `Model` API which we can use for more complicated models, but we will stick with sequential for now."
   ]
  },
  {
   "cell_type": "code",
   "execution_count": 36,
   "id": "f41e09bb-fce2-4518-a043-ca5582cf654f",
   "metadata": {},
   "outputs": [
    {
     "data": {
      "text/html": [
       "<pre style=\"white-space:pre;overflow-x:auto;line-height:normal;font-family:Menlo,'DejaVu Sans Mono',consolas,'Courier New',monospace\"><span style=\"font-weight: bold\">Model: \"sequential_11\"</span>\n",
       "</pre>\n"
      ],
      "text/plain": [
       "\u001b[1mModel: \"sequential_11\"\u001b[0m\n"
      ]
     },
     "metadata": {},
     "output_type": "display_data"
    },
    {
     "data": {
      "text/html": [
       "<pre style=\"white-space:pre;overflow-x:auto;line-height:normal;font-family:Menlo,'DejaVu Sans Mono',consolas,'Courier New',monospace\">┏━━━━━━━━━━━━━━━━━━━━━━━━━━━━━━━━━┳━━━━━━━━━━━━━━━━━━━━━━━━┳━━━━━━━━━━━━━━━┓\n",
       "┃<span style=\"font-weight: bold\"> Layer (type)                    </span>┃<span style=\"font-weight: bold\"> Output Shape           </span>┃<span style=\"font-weight: bold\">       Param # </span>┃\n",
       "┡━━━━━━━━━━━━━━━━━━━━━━━━━━━━━━━━━╇━━━━━━━━━━━━━━━━━━━━━━━━╇━━━━━━━━━━━━━━━┩\n",
       "│ hidden_layer (<span style=\"color: #0087ff; text-decoration-color: #0087ff\">Dense</span>)            │ (<span style=\"color: #00d7ff; text-decoration-color: #00d7ff\">None</span>, <span style=\"color: #00af00; text-decoration-color: #00af00\">3</span>)              │             <span style=\"color: #00af00; text-decoration-color: #00af00\">6</span> │\n",
       "├─────────────────────────────────┼────────────────────────┼───────────────┤\n",
       "│ output_layer (<span style=\"color: #0087ff; text-decoration-color: #0087ff\">Dense</span>)            │ (<span style=\"color: #00d7ff; text-decoration-color: #00d7ff\">None</span>, <span style=\"color: #00af00; text-decoration-color: #00af00\">1</span>)              │             <span style=\"color: #00af00; text-decoration-color: #00af00\">4</span> │\n",
       "└─────────────────────────────────┴────────────────────────┴───────────────┘\n",
       "</pre>\n"
      ],
      "text/plain": [
       "┏━━━━━━━━━━━━━━━━━━━━━━━━━━━━━━━━━┳━━━━━━━━━━━━━━━━━━━━━━━━┳━━━━━━━━━━━━━━━┓\n",
       "┃\u001b[1m \u001b[0m\u001b[1mLayer (type)                   \u001b[0m\u001b[1m \u001b[0m┃\u001b[1m \u001b[0m\u001b[1mOutput Shape          \u001b[0m\u001b[1m \u001b[0m┃\u001b[1m \u001b[0m\u001b[1m      Param #\u001b[0m\u001b[1m \u001b[0m┃\n",
       "┡━━━━━━━━━━━━━━━━━━━━━━━━━━━━━━━━━╇━━━━━━━━━━━━━━━━━━━━━━━━╇━━━━━━━━━━━━━━━┩\n",
       "│ hidden_layer (\u001b[38;5;33mDense\u001b[0m)            │ (\u001b[38;5;45mNone\u001b[0m, \u001b[38;5;34m3\u001b[0m)              │             \u001b[38;5;34m6\u001b[0m │\n",
       "├─────────────────────────────────┼────────────────────────┼───────────────┤\n",
       "│ output_layer (\u001b[38;5;33mDense\u001b[0m)            │ (\u001b[38;5;45mNone\u001b[0m, \u001b[38;5;34m1\u001b[0m)              │             \u001b[38;5;34m4\u001b[0m │\n",
       "└─────────────────────────────────┴────────────────────────┴───────────────┘\n"
      ]
     },
     "metadata": {},
     "output_type": "display_data"
    },
    {
     "data": {
      "text/html": [
       "<pre style=\"white-space:pre;overflow-x:auto;line-height:normal;font-family:Menlo,'DejaVu Sans Mono',consolas,'Courier New',monospace\"><span style=\"font-weight: bold\"> Total params: </span><span style=\"color: #00af00; text-decoration-color: #00af00\">10</span> (40.00 B)\n",
       "</pre>\n"
      ],
      "text/plain": [
       "\u001b[1m Total params: \u001b[0m\u001b[38;5;34m10\u001b[0m (40.00 B)\n"
      ]
     },
     "metadata": {},
     "output_type": "display_data"
    },
    {
     "data": {
      "text/html": [
       "<pre style=\"white-space:pre;overflow-x:auto;line-height:normal;font-family:Menlo,'DejaVu Sans Mono',consolas,'Courier New',monospace\"><span style=\"font-weight: bold\"> Trainable params: </span><span style=\"color: #00af00; text-decoration-color: #00af00\">10</span> (40.00 B)\n",
       "</pre>\n"
      ],
      "text/plain": [
       "\u001b[1m Trainable params: \u001b[0m\u001b[38;5;34m10\u001b[0m (40.00 B)\n"
      ]
     },
     "metadata": {},
     "output_type": "display_data"
    },
    {
     "data": {
      "text/html": [
       "<pre style=\"white-space:pre;overflow-x:auto;line-height:normal;font-family:Menlo,'DejaVu Sans Mono',consolas,'Courier New',monospace\"><span style=\"font-weight: bold\"> Non-trainable params: </span><span style=\"color: #00af00; text-decoration-color: #00af00\">0</span> (0.00 B)\n",
       "</pre>\n"
      ],
      "text/plain": [
       "\u001b[1m Non-trainable params: \u001b[0m\u001b[38;5;34m0\u001b[0m (0.00 B)\n"
      ]
     },
     "metadata": {},
     "output_type": "display_data"
    }
   ],
   "source": [
    "# Creating a neural network with Keras\n",
    "\n",
    "def step_tf(x):\n",
    "    \"\"\"Step function implemented using Tensorflow.\"\"\"\n",
    "    return tf.maximum (tf.sign( x ), 0.0 )\n",
    "\n",
    "\n",
    "model = K.Sequential()\n",
    "\n",
    "model.add(K.layers.Input((1, ), name='input_layer'))\n",
    "model.add(K.layers.Dense(3, activation=step_tf, name='hidden_layer'))\n",
    "model.add(K.layers.Dense(1, activation='linear', name='output_layer'))  # Note: 'linear' is the default so isn't strictly needed here\n",
    "\n",
    "model.summary()"
   ]
  },
  {
   "cell_type": "code",
   "execution_count": 37,
   "id": "7ab3ffeb-1525-4702-8028-321bed1ab1ac",
   "metadata": {},
   "outputs": [
    {
     "data": {
      "text/plain": [
       "Text(0.5, 1.0, 'Simple Neural Network - Simplified version')"
      ]
     },
     "execution_count": 37,
     "metadata": {},
     "output_type": "execute_result"
    },
    {
     "data": {
      "image/png": "[encoded data removed]",
      "text/plain": [
       "<Figure size 640x480 with 1 Axes>"
      ]
     },
     "metadata": {},
     "output_type": "display_data"
    }
   ],
   "source": [
    "# Assign the model weights we were using before to this model\n",
    "# Normally we would find these weights by training, so this is not normally done.\n",
    "\n",
    "model.set_weights([\n",
    "    np.array([[1, 3, -2]]),\n",
    "    np.array([-1, 4, 1]),\n",
    "    np.array([[0], [1], [3]]),\n",
    "    np.array([-2]),\n",
    "])\n",
    "\n",
    "# Make a plot of the output\n",
    "xs = np.linspace(-5, 5, 100).reshape(-1, 1)\n",
    "ys = model(xs)\n",
    "\n",
    "plt.plot(xs, ys, '--')\n",
    "plt.title(\"Simple Neural Network - Simplified version\")"
   ]
  },
  {
   "cell_type": "markdown",
   "id": "7d54c4a2-dcb9-4b7b-8f57-1bb0a62e8eb7",
   "metadata": {},
   "source": [
    "## Using Neural Networks for Classification Problems\n",
    "\n",
    "Up until now, we have been looking at neural networks which predict a continuous value.\n",
    "This is typical for regression problems, when we want to predict the amount of something.\n",
    "\n",
    "**FINISH THIS SECTION**\n",
    "\n",
    "### The Softmax Function\n",
    "\n",
    "When performing classification, \n",
    "\n",
    "$$softmax\\left(\\vec{x}\\right) = \\frac{1}{\\sum_{j=0}^N e^{x_j}} \\cdot \\left[\\begin{array}{c}\n",
    "e^{x_0} \\\\\n",
    "\\vdots \\\\\n",
    "e^{x_N}\n",
    "\\end{array} \\right]$$\n",
    "\n",
    "This function has two nice properties:\n",
    "\n",
    "1. Each entry in its output is positive, no matter the input values.\n",
    "2. The sum of all entries will always equal 1.0.\n",
    "\n",
    "This means that we can interpret the values of this vector as _probabilities_.\n",
    "This is great for classification problems!\n",
    "We can set up our neural network to have an output layer which has a number of entries which is equal to the number of classes.\n",
    "We then interpret the output vector $\\vec{y}$'s $i^{th}$ entry as the probablity that the given input is of class $i$.\n",
    "\n",
    "We can then take the largest probability as the final prediction of the neural network.\n",
    "\n",
    "**PUT A PICTURE HERE OF APPLE, LEMON, ORANGE HERE**"
   ]
  },
  {
   "cell_type": "code",
   "execution_count": 3,
   "id": "6cc30dc8",
   "metadata": {},
   "outputs": [
    {
     "data": {
      "text/plain": [
       "6"
      ]
     },
     "execution_count": 3,
     "metadata": {},
     "output_type": "execute_result"
    }
   ],
   "source": [
    "np.sum([1, 2, 3])"
   ]
  },
  {
   "cell_type": "code",
   "execution_count": 6,
   "id": "9dafa6a4",
   "metadata": {},
   "outputs": [
    {
     "data": {
      "text/plain": [
       "array([[0.11849965, 0.00589975, 0.8756006 ]])"
      ]
     },
     "execution_count": 6,
     "metadata": {},
     "output_type": "execute_result"
    }
   ],
   "source": [
    "# Softmax in Python code\n",
    "\n",
    "def softmax(x):\n",
    "    numerator = np.exp(x)\n",
    "    \n",
    "    denominator = np.sum(numerator)\n",
    "    \n",
    "    return numerator / denominator\n",
    "\n",
    "\n",
    "## Example\n",
    "\n",
    "vec = np.array([[1, -2, 3]])\n",
    "\n",
    "softmax(vec)"
   ]
  },
  {
   "cell_type": "markdown",
   "id": "4b981a10",
   "metadata": {},
   "source": [
    "# Homework Questions\n",
    "\n",
    "1. Define the concepts of layers and activation functions.\n",
    "2. Using the `MyNeuralNetwork` class from this lesson, experiment with different weight matrices.\n",
    "Create three different neural networks with various values and sizes. Plot the output of out neural network function and explain what you can see changes as you change the weight matrix.\n",
    "3. Create a `MyNeuralNetworkV3` class which uses the sigmoid activation function instead of the step function. Plot this network's output and describe in your own words how this differs from the step-function version.\n",
    "4. Why is it important to include a non-linear activation function in our neural network?\n",
    "5. Explain what we mean by a deep neural network vs. a shallow network.\n",
    "6. What is the softmax function? When would you use it?"
   ]
  }
 ],
 "metadata": {
  "kernelspec": {
   "display_name": "Python 3 (ipykernel)",
   "language": "python",
   "name": "python3"
  },
  "language_info": {
   "codemirror_mode": {
    "name": "ipython",
    "version": 3
   },
   "file_extension": ".py",
   "mimetype": "text/x-python",
   "name": "python",
   "nbconvert_exporter": "python",
   "pygments_lexer": "ipython3",
   "version": "3.11.0rc1"
  }
 },
 "nbformat": 4,
 "nbformat_minor": 5
}
