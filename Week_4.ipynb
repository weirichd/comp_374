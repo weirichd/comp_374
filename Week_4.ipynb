{
 "cells": [
  {
   "cell_type": "markdown",
   "id": "d1749aa9",
   "metadata": {},
   "source": [
    "# Week 4 - Specialized Neural Networks: CNNs and RNNs\n",
    "\n",
    "* What is convolution in general?\n",
    "* What is a convolutional layer?\n",
    "* If Feed-forward neural networks are genral, why do we even need CNNs?\n",
    "* Build a NN for image classification using a FFNN and then a CNN\n",
    "* Brief discussion of recurrant neural networks\n",
    "    * Another example of a specialized network structure to handle a specific kind of data\n",
    "    * Recently fallen out of favor after invention of transformers (discussed in 2nd half of semester)\n",
    " \n",
    "#### Key Vocab:\n",
    "\n",
    "* Neural Network Architecture\n",
    "* Convolution\n",
    "* Tensors\n",
    "* Pooling Layer"
   ]
  },
  {
   "cell_type": "markdown",
   "id": "9d510178",
   "metadata": {},
   "source": [
    "# Homework Questions\n",
    "\n",
    "1. What is convolution? Why would it make sense for a neural network to share weights? Why are convolutional layers good choices for neural networks woking with image data?\n",
    "2. What is a tensor? \n",
    "3. Load the fashion MNIST dataset. Train a CNN neural network to predict the class of images.\n",
    "4. Load the stock dataset. Create a recurrent neural network to predict the next day's closing stock price."
   ]
  }
 ],
 "metadata": {
  "kernelspec": {
   "display_name": "analysis",
   "language": "python",
   "name": "analysis"
  },
  "language_info": {
   "codemirror_mode": {
    "name": "ipython",
    "version": 3
   },
   "file_extension": ".py",
   "mimetype": "text/x-python",
   "name": "python",
   "nbconvert_exporter": "python",
   "pygments_lexer": "ipython3",
   "version": "3.10.12"
  }
 },
 "nbformat": 4,
 "nbformat_minor": 5
}
