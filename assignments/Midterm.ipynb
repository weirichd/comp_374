{
 "cells": [
  {
   "cell_type": "markdown",
   "id": "1351e190-bd00-428d-8068-8c3d412f8fe7",
   "metadata": {},
   "source": [
    "# Midterm Project\n",
    "\n",
    "In this project, you will be training an image classification model using the cats vs. dogs dataset.\n",
    "\n",
    "https://www.kaggle.com/datasets/shaunthesheep/microsoft-catsvsdogs-dataset\n",
    "\n",
    "In addition, for this project you will be required to include at least one layer type which we have not covered in class.\n",
    "\n",
    "[Keras Layers API](https://keras.io/api/layers/)\n",
    "\n",
    "Look through the Keras Layers API and try to find a layer which you think is interesting.\n",
    "\n",
    "## Requirements:\n",
    "\n",
    "* Download the dataset (you will need to create a Kaggle account to do this).\n",
    "* Get the data into shape so that your model can use it.\n",
    "* Use Keras to build your neural network. Be sure to include a layer which we haev not covered in class.\n",
    "* Include in your notebook a short description of the layer you want to try, and why you think it will be useful in this task.\n",
    "* Train your model with a variety of hyper parameters.\n",
    "* Record your model's best performance on the test set.\n",
    "* Output some exaple images from the test set with your model's prediction.\n",
    "* Include any other useful information which you think will make your project easy to understand.\n",
    "\n",
    "Please submit your solution in the form of a jupyter notebook which can be run from top to bottom with no errors.\n",
    "Please also be sure to include within your notebook some Markdown (text) cells which explain what is going on in the notebook."
   ]
  }
 ],
 "metadata": {
  "kernelspec": {
   "display_name": "Python 3 (ipykernel)",
   "language": "python",
   "name": "python3"
  },
  "language_info": {
   "codemirror_mode": {
    "name": "ipython",
    "version": 3
   },
   "file_extension": ".py",
   "mimetype": "text/x-python",
   "name": "python",
   "nbconvert_exporter": "python",
   "pygments_lexer": "ipython3",
   "version": "3.11.0rc1"
  }
 },
 "nbformat": 4,
 "nbformat_minor": 5
}
