{
 "cells": [
  {
   "cell_type": "markdown",
   "id": "0be6a647-bbe9-435d-9e32-5fc5380ea8b2",
   "metadata": {},
   "source": [
    "# Homework 10\n",
    "\n",
    "For this weeks assignment, write a short five paragraph essay about an AI ethics related issue you are interested in.\n",
    "Feel free to use some relevant issues from your own life, career, or anything you are interested in.\n",
    "Describe in detail the problem you are worried about and what solutions you think would be worth looking into.\n",
    "\n",
    "The purpose of this assignment is to get you to think about these problems! Don't stress too much about writing the \"right thing.\"\n",
    "The issue of AI ethics is a new and fascinating field, and I thin"
   ]
  }
 ],
 "metadata": {
  "kernelspec": {
   "display_name": "Python 3 (ipykernel)",
   "language": "python",
   "name": "python3"
  },
  "language_info": {
   "codemirror_mode": {
    "name": "ipython",
    "version": 3
   },
   "file_extension": ".py",
   "mimetype": "text/x-python",
   "name": "python",
   "nbconvert_exporter": "python",
   "pygments_lexer": "ipython3",
   "version": "3.11.0rc1"
  }
 },
 "nbformat": 4,
 "nbformat_minor": 5
}
