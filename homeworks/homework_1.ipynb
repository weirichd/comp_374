{
 "cells": [
  {
   "cell_type": "markdown",
   "id": "ccadd4a7-4b0f-48ae-b77d-d9102312f044",
   "metadata": {},
   "source": [
    "# Homework 1\n",
    "\n",
    "1. Describe the importance that statistics, mathematics, and computer science play in the field of machine learning.\n",
    "2. Compute the derivative of the sigmoid function:\n",
    "$$\\sigma(x) = \\frac{1}{1 + e^{-x}}$$\n",
    "3. Use numpy to compute the following matrix multiplication:\n",
    "$$\\left[\\begin{matrix}\n",
    "1 & 1 & 0 \\\\\n",
    "2 & -1 & 7 \\\\\n",
    "4 & 0 & 4\n",
    "\\end{matrix}\\right] \\cdot \\left[\\begin{matrix}\n",
    "-3 & 0 & 6 \\\\\n",
    "10 & 1 & 0 \\\\\n",
    "-2 & -3 & -4\n",
    "\\end{matrix}\\right]$$\n",
    "5. Use the `load_diabetes` function from Scikit Learn to load the diabetes dataset. Train a linear regression model using our code from class, and calculate the mean square error of your model's predictions on the training dataset.\n",
    "\n",
    "```python\n",
    "\n",
    "from sklearn.datasets import load_diabetes\n",
    "\n",
    "X, y = load_diabetes(return_X_y = True)\n",
    "\n",
    "```"
   ]
  }
 ],
 "metadata": {
  "kernelspec": {
   "display_name": "Python 3 (ipykernel)",
   "language": "python",
   "name": "python3"
  },
  "language_info": {
   "codemirror_mode": {
    "name": "ipython",
    "version": 3
   },
   "file_extension": ".py",
   "mimetype": "text/x-python",
   "name": "python",
   "nbconvert_exporter": "python",
   "pygments_lexer": "ipython3",
   "version": "3.11.0rc1"
  }
 },
 "nbformat": 4,
 "nbformat_minor": 5
}
