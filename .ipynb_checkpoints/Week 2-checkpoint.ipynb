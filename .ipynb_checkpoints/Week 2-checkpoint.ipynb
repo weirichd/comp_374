{
 "cells": [
  {
   "cell_type": "markdown",
   "id": "339c6fe3",
   "metadata": {},
   "source": [
    "# Week 2: Introduction to Neural Networks\n",
    "\n",
    "\n",
    "In this section, we will introduce neural networks.\n",
    "\n",
    "## Overview\n",
    "\n",
    "* General-purpose curve fitting requirements\n",
    " *  A function which is robust enough to fit any data we throw at it\n",
    " *  A training algorithm for this function which conforms to physical constraints of a computer\n",
    "* Why are neural networks a good solution?\n",
    "* Neural networks as mathematical function\n",
    "* Deep vs. Shallow networks\n",
    "* First look at Tensorflow and Keras\n",
    "\n",
    "**Key Vocab:**\n",
    "\n",
    "* Neural Network\n",
    "* Universal Approximation Theorem\n",
    "* Feed-Forward Neural Network\n",
    "* Deep Learning\n",
    "* Weights/Bias\n",
    "* Activation Function\n",
    "* Layer\n",
    "* Keras\n",
    " * Sequential Model\n",
    " * Dense Layers\n",
    " * Model Compilation"
   ]
  },
  {
   "cell_type": "code",
   "execution_count": 3,
   "id": "445739d8",
   "metadata": {},
   "outputs": [],
   "source": [
    "# Libraries we will use in this lesson\n",
    "\n",
    "import matplotlib.pyplot as plt\n",
    "import numpy as np"
   ]
  },
  {
   "cell_type": "markdown",
   "id": "940c34ea",
   "metadata": {},
   "source": [
    "## General Purpose Curve Fitting\n",
    "\n",
    "We want a mathematical function which satisfies the following requirements:\n",
    "\n",
    "1. The function is robust enough to allow it to fit any general data by setting the function's parameters\n",
    "2. There is a companion training algorithm which we can use to _find_ good parameters\n",
    "\n",
    "It turns out that these two requirements can be satisfied with a _neural network_.\n",
    "\n",
    "## Our First Neural Network\n",
    "\n",
    "Let's begin by giving the formal definition of a basic neural network:\n",
    "\n",
    "---\n",
    "\n",
    "**Neural Network**\n",
    "\n",
    "Let $F$ be a function\n",
    "\n",
    "$$F\\left(\\vec{x}; W_0, W_1, \\vec{b}_0, \\vec{b}_1\\right) = \\hat{y}$$\n",
    "\n",
    "where $\\vec{x}$ is an input vector, $W_0$ and $W_1$ are parameter matrices, \n",
    "$\\vec{b}_0$, and $\\vec{b}_1$ are parameter vectors, and $\\hat{y}$ is the output vector.\n",
    "The function $F$ has the form\n",
    "\n",
    "$$F(\\vec{x}) = \\phi_1\\left(W_1 \\phi_0\\left(W_0\\vec{x} + \\vec{b}_0\\right) + \\vec{b}_1\\right)$$\n",
    "\n",
    "where $\\phi_0$ is a nonlinear function, and $\\phi_1$ is a (not necessarily nonlinear) function.\n",
    "\n",
    "Then $F$ is said to be a *single layer neural network*.\n",
    "The functions $\\phi_0$ and $\\phi_1$ are called _activation functions_.\n",
    "The matrices $W_0$ and $W_1$ are called _weight matrices_.\n",
    "The vectors $\\vec{b}_0$ and $\\vec{b}_1$ are called _bias vectors._\n",
    "\n",
    "---"
   ]
  },
  {
   "cell_type": "markdown",
   "id": "1350529a",
   "metadata": {},
   "source": [
    "We will now implement this function in Python, using `numpy` to handle our matrix multiplication.\n",
    "\n",
    "For now, we will omit the outside activation function $\\phi_1$.\n",
    "For the inside activation function $\\phi_0$, we will use a simple signum function:\n",
    "\n",
    "$$\\phi_0(x) = \\left\\{\\begin{array}{ccc}\n",
    "0 & \\text{if} & x \\leq 0 \\\\\n",
    "1 & \\text{if} & x > 0\n",
    "\\end{array}\\right.\n",
    "$$\n",
    "\n",
    "Remember, that _any_ non-linear function will work here, this one is just very easy to work with for the time being."
   ]
  },
  {
   "cell_type": "code",
   "execution_count": 1,
   "id": "b68cf0c7",
   "metadata": {},
   "outputs": [],
   "source": [
    "def signum(x):\n",
    "    \"\"\"An activation function which returns 0 for negative values and 1 for positive values.\"\"\"\n",
    "    \n",
    "    return np.where(x <= 0, 0, 1)\n",
    "\n",
    "\n",
    "\n",
    "class MyNeuralNetwork:\n",
    "    \"\"\"A simple neural network class.\"\"\"\n",
    "    \n",
    "    def __init__(self, w0, w1, b0, b1):\n",
    "        # Store the parameter matrices as class attributes\n",
    "        self.w0 = w0\n",
    "        self.w1 = w1\n",
    "        self.b0 = b0\n",
    "        self.b1 = b1\n",
    "    \n",
    "    def __call__(self, x):\n",
    "        \"\"\"Call the NN function.\"\"\"\n",
    "        \n",
    "        # Note: We multiply the matrix on the right in the code\n",
    "        #       to satisfy numpy's requirements.\n",
    "        \n",
    "        return signum(x @ self.w0 + self.b0) @ self.w1 + self.b1"
   ]
  },
  {
   "cell_type": "markdown",
   "id": "a50c00f4",
   "metadata": {},
   "source": [
    "We will now test this neural class network out!\n",
    "Let's create a simple function of one variable, which has one output:"
   ]
  },
  {
   "cell_type": "code",
   "execution_count": 2,
   "id": "4d55b853",
   "metadata": {},
   "outputs": [
    {
     "data": {
      "text/plain": [
       "Text(0.5, 1.0, 'Simple Neural Network')"
      ]
     },
     "execution_count": 2,
     "metadata": {},
     "output_type": "execute_result"
    },
    {
     "data": {
      "image/png": "[encoded data removed]",
      "text/plain": [
       "<Figure size 640x480 with 1 Axes>"
      ]
     },
     "metadata": {},
     "output_type": "display_data"
    }
   ],
   "source": [
    "import matplotlib.pyplot as plt\n",
    "\n",
    "\n",
    "# Testing out the Neural Network Class\n",
    "\n",
    "nn = MyNeuralNetwork(\n",
    "    w0 = np.array([[1, 3, -2]]),     # 1 x 3 matrix\n",
    "    w1 = np.array([[0], [1], [3]]),  # 3 x 1 matrix\n",
    "    b0 = np.array([-1, 4, 1]),       # 3-vector\n",
    "    b1 = np.array([-2]),              # 1-vector\n",
    ")\n",
    "\n",
    "\n",
    "# Make a plot of the output\n",
    "x = np.linspace(-5, 5, 1000).reshape(-1, 1)\n",
    "y = nn(x)\n",
    "\n",
    "plt.plot(x, y, '--')\n",
    "plt.title(\"Simple Neural Network\")"
   ]
  },
  {
   "cell_type": "markdown",
   "id": "2d512969",
   "metadata": {},
   "source": [
    "## The Universal Approximation Theorem"
   ]
  },
  {
   "cell_type": "code",
   "execution_count": 157,
   "id": "9c7d10ad",
   "metadata": {},
   "outputs": [],
   "source": [
    "\n",
    "def sigmoid(x):\n",
    "    \"\"\"An activation function which returns 0 for negative values and 1 for positive values.\"\"\"\n",
    "    \n",
    "    return 1.0 / (1.0 + np.exp(-x))\n",
    "\n",
    "\n",
    "\n",
    "class MyNeuralNetwork:\n",
    "    \"\"\"A simple neural network class.\"\"\"\n",
    "    \n",
    "    def __init__(self, w0, w1, b0, b1):\n",
    "        # Store the parameter matrices as class attributes\n",
    "        self.w0 = w0\n",
    "        self.w1 = w1\n",
    "        self.b0 = b0\n",
    "        self.b1 = b1\n",
    "    \n",
    "    def __call__(self, x):\n",
    "        \"\"\"Call the NN function.\"\"\"\n",
    "        \n",
    "        # Note: We multiply the matrix on the right in the code\n",
    "        #       to satisfy numpy's requirements.\n",
    "        \n",
    "        return sigmoid(x @ self.w0 + self.b0) @ self.w1 + self.b1"
   ]
  },
  {
   "cell_type": "code",
   "execution_count": null,
   "id": "2f1bb544",
   "metadata": {},
   "outputs": [],
   "source": []
  }
 ],
 "metadata": {
  "kernelspec": {
   "display_name": "analysis",
   "language": "python",
   "name": "analysis"
  },
  "language_info": {
   "codemirror_mode": {
    "name": "ipython",
    "version": 3
   },
   "file_extension": ".py",
   "mimetype": "text/x-python",
   "name": "python",
   "nbconvert_exporter": "python",
   "pygments_lexer": "ipython3",
   "version": "3.10.12"
  }
 },
 "nbformat": 4,
 "nbformat_minor": 5
}
