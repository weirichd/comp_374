{
 "cells": [
  {
   "cell_type": "markdown",
   "id": "b092af5e",
   "metadata": {},
   "source": [
    "# Week 5 - Generative Models\n",
    "\n",
    "What are generative models\n",
    "\n",
    "* Keras Model API\n",
    "* \"Generation\" really just means regression w/ a specific kind of target\n",
    "* Autoencoders\n",
    "* Basics on Diffusion techniques"
   ]
  },
  {
   "cell_type": "markdown",
   "id": "7dd018c8",
   "metadata": {},
   "source": [
    "## Keras Model API\n",
    "\n",
    "## Autoencoders"
   ]
  },
  {
   "cell_type": "code",
   "execution_count": null,
   "id": "747efc47",
   "metadata": {},
   "outputs": [],
   "source": []
  }
 ],
 "metadata": {
  "kernelspec": {
   "display_name": "analysis",
   "language": "python",
   "name": "analysis"
  },
  "language_info": {
   "codemirror_mode": {
    "name": "ipython",
    "version": 3
   },
   "file_extension": ".py",
   "mimetype": "text/x-python",
   "name": "python",
   "nbconvert_exporter": "python",
   "pygments_lexer": "ipython3",
   "version": "3.10.12"
  }
 },
 "nbformat": 4,
 "nbformat_minor": 5
}
